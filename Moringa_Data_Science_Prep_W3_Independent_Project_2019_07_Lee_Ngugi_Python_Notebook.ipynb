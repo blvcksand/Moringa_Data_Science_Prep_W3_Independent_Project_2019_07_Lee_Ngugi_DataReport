{
  "nbformat": 4,
  "nbformat_minor": 0,
  "metadata": {
    "colab": {
      "name": "Moringa_Data_Science_Prep_W3_Independent_Project_2019_07_Lee_Ngugi_Python_Notebook",
      "provenance": [],
      "collapsed_sections": [],
      "authorship_tag": "ABX9TyOhixvFHMJDPpNyo+4tl0Fc",
      "include_colab_link": true
    },
    "kernelspec": {
      "display_name": "Python 3",
      "name": "python3"
    },
    "language_info": {
      "name": "python"
    }
  },
  "cells": [
    {
      "cell_type": "markdown",
      "metadata": {
        "id": "view-in-github",
        "colab_type": "text"
      },
      "source": [
        "<a href=\"https://colab.research.google.com/github/blvcksand/Moringa_Data_Science_Prep_W3_Independent_Project_2019_07_Lee_Ngugi_DataReport/blob/main/Moringa_Data_Science_Prep_W3_Independent_Project_2019_07_Lee_Ngugi_Python_Notebook.ipynb\" target=\"_parent\"><img src=\"https://colab.research.google.com/assets/colab-badge.svg\" alt=\"Open In Colab\"/></a>"
      ]
    },
    {
      "cell_type": "markdown",
      "metadata": {
        "id": "PNxrUYTsf6Aa"
      },
      "source": [
        "DATA REPRESTATION"
      ]
    },
    {
      "cell_type": "code",
      "metadata": {
        "id": "421JaIA4XYnG"
      },
      "source": [
        "# loading Dataset into the notebook\n",
        "dataset_1 = 'http://bit.ly/Telcom_dataset1'\n",
        "dataset_2 = 'http://bit.ly/Telcom_dataset2'\n",
        "dataset_3 = 'http://bit.ly/Telcom_dataset3'\n",
        "cell_geo = 'https://docs.google.com/spreadsheets/d/1n_dhYAqPzpNJ5Xui2bBy1i7Q3HxdTxNgEFSBr-lbK9s/edit?usp=sharing'"
      ],
      "execution_count": null,
      "outputs": []
    },
    {
      "cell_type": "code",
      "metadata": {
        "colab": {
          "base_uri": "https://localhost:8080/",
          "height": 290
        },
        "id": "lv7PSi4xYnrZ",
        "outputId": "ec42b00c-3893-4789-afbf-54393f7504d9"
      },
      "source": [
        "# load the dataset into a DataFrame\n",
        "import pandas as pd\n",
        "\n",
        "df1 = pd.read_csv(dataset_1)\n",
        "df1.head()\n"
      ],
      "execution_count": null,
      "outputs": [
        {
          "data": {
            "text/html": [
              "<div>\n",
              "<style scoped>\n",
              "    .dataframe tbody tr th:only-of-type {\n",
              "        vertical-align: middle;\n",
              "    }\n",
              "\n",
              "    .dataframe tbody tr th {\n",
              "        vertical-align: top;\n",
              "    }\n",
              "\n",
              "    .dataframe thead th {\n",
              "        text-align: right;\n",
              "    }\n",
              "</style>\n",
              "<table border=\"1\" class=\"dataframe\">\n",
              "  <thead>\n",
              "    <tr style=\"text-align: right;\">\n",
              "      <th></th>\n",
              "      <th>PRODUTC</th>\n",
              "      <th>VALUE</th>\n",
              "      <th>DATETIME</th>\n",
              "      <th>CELL_ON_SITE</th>\n",
              "      <th>DW_A_NUMBER_INT</th>\n",
              "      <th>DW_B_NUMBER_INT</th>\n",
              "      <th>COUNTRY_A</th>\n",
              "      <th>COUNTRY_B</th>\n",
              "      <th>CELL_ID</th>\n",
              "      <th>SITE_ID</th>\n",
              "    </tr>\n",
              "  </thead>\n",
              "  <tbody>\n",
              "    <tr>\n",
              "      <th>0</th>\n",
              "      <td>Voice</td>\n",
              "      <td>0</td>\n",
              "      <td>2012-05-06 23:04:37.0</td>\n",
              "      <td>1</td>\n",
              "      <td>49fae048b547780</td>\n",
              "      <td>1a49f8b0ded9de6</td>\n",
              "      <td>19e2e</td>\n",
              "      <td>19e2e</td>\n",
              "      <td>/TJNe+Mmtu</td>\n",
              "      <td>/TJNe+Mmtu</td>\n",
              "    </tr>\n",
              "    <tr>\n",
              "      <th>1</th>\n",
              "      <td>sms</td>\n",
              "      <td>0</td>\n",
              "      <td>2012-05-06 23:05:25.0</td>\n",
              "      <td>0</td>\n",
              "      <td>7a54a6eaee19e65</td>\n",
              "      <td>93343ba6e41af95</td>\n",
              "      <td>19e2e</td>\n",
              "      <td>19e2e</td>\n",
              "      <td>/+cKZKIp41</td>\n",
              "      <td>/+cKZKIp41</td>\n",
              "    </tr>\n",
              "    <tr>\n",
              "      <th>2</th>\n",
              "      <td>sms</td>\n",
              "      <td>25</td>\n",
              "      <td>2012-05-06 23:05:41.0</td>\n",
              "      <td>0</td>\n",
              "      <td>6008887b0207d82</td>\n",
              "      <td>7aacc9709ce0a20</td>\n",
              "      <td>19e2e</td>\n",
              "      <td>19e2e</td>\n",
              "      <td>/u0FSD+ahi</td>\n",
              "      <td>/u0FSD+ahi</td>\n",
              "    </tr>\n",
              "    <tr>\n",
              "      <th>3</th>\n",
              "      <td>Voice</td>\n",
              "      <td>56</td>\n",
              "      <td>2012-05-06 23:05:42.0</td>\n",
              "      <td>1</td>\n",
              "      <td>7370032e20f4e96</td>\n",
              "      <td>6af4a60e74c91d3</td>\n",
              "      <td>19e2e</td>\n",
              "      <td>19e2e</td>\n",
              "      <td>+cNeJzsTp3</td>\n",
              "      <td>+cNeJzsTp3</td>\n",
              "    </tr>\n",
              "    <tr>\n",
              "      <th>4</th>\n",
              "      <td>Voice</td>\n",
              "      <td>14</td>\n",
              "      <td>2012-05-06 23:06:29.0</td>\n",
              "      <td>1</td>\n",
              "      <td>966ba4656e38e62</td>\n",
              "      <td>02aa736ee555d5c</td>\n",
              "      <td>19e2e</td>\n",
              "      <td>19e2e</td>\n",
              "      <td>051KhYDCpv</td>\n",
              "      <td>051KhYDCpv</td>\n",
              "    </tr>\n",
              "  </tbody>\n",
              "</table>\n",
              "</div>"
            ],
            "text/plain": [
              "  PRODUTC  VALUE               DATETIME  ... COUNTRY_B     CELL_ID     SITE_ID\n",
              "0   Voice      0  2012-05-06 23:04:37.0  ...     19e2e  /TJNe+Mmtu  /TJNe+Mmtu\n",
              "1     sms      0  2012-05-06 23:05:25.0  ...     19e2e  /+cKZKIp41  /+cKZKIp41\n",
              "2     sms     25  2012-05-06 23:05:41.0  ...     19e2e  /u0FSD+ahi  /u0FSD+ahi\n",
              "3   Voice     56  2012-05-06 23:05:42.0  ...     19e2e  +cNeJzsTp3  +cNeJzsTp3\n",
              "4   Voice     14  2012-05-06 23:06:29.0  ...     19e2e  051KhYDCpv  051KhYDCpv\n",
              "\n",
              "[5 rows x 10 columns]"
            ]
          },
          "execution_count": 62,
          "metadata": {},
          "output_type": "execute_result"
        }
      ]
    },
    {
      "cell_type": "code",
      "metadata": {
        "colab": {
          "base_uri": "https://localhost:8080/",
          "height": 290
        },
        "id": "POg8v0MPZHdx",
        "outputId": "561321f9-1631-44e5-8ab5-b19d020b0e40"
      },
      "source": [
        "df2 = pd.read_csv(dataset_2)\n",
        "df2.head()"
      ],
      "execution_count": null,
      "outputs": [
        {
          "data": {
            "text/html": [
              "<div>\n",
              "<style scoped>\n",
              "    .dataframe tbody tr th:only-of-type {\n",
              "        vertical-align: middle;\n",
              "    }\n",
              "\n",
              "    .dataframe tbody tr th {\n",
              "        vertical-align: top;\n",
              "    }\n",
              "\n",
              "    .dataframe thead th {\n",
              "        text-align: right;\n",
              "    }\n",
              "</style>\n",
              "<table border=\"1\" class=\"dataframe\">\n",
              "  <thead>\n",
              "    <tr style=\"text-align: right;\">\n",
              "      <th></th>\n",
              "      <th>PRODUCT</th>\n",
              "      <th>VALUE</th>\n",
              "      <th>DATE_TIME</th>\n",
              "      <th>CELL_ON_SITE</th>\n",
              "      <th>DW_A_NUMBER</th>\n",
              "      <th>DW_B_NUMBER</th>\n",
              "      <th>COUNTRY_A</th>\n",
              "      <th>COUNTRY_B</th>\n",
              "      <th>CELL_ID</th>\n",
              "      <th>SITE_ID</th>\n",
              "    </tr>\n",
              "  </thead>\n",
              "  <tbody>\n",
              "    <tr>\n",
              "      <th>0</th>\n",
              "      <td>sms</td>\n",
              "      <td>0</td>\n",
              "      <td>2012-05-07 23:02:06.0</td>\n",
              "      <td>2</td>\n",
              "      <td>32255675c3b6fe3</td>\n",
              "      <td>1aa7ae01386e9fb</td>\n",
              "      <td>19e2e</td>\n",
              "      <td>19e2e</td>\n",
              "      <td>+854AcBQT2</td>\n",
              "      <td>+854AcBQT2</td>\n",
              "    </tr>\n",
              "    <tr>\n",
              "      <th>1</th>\n",
              "      <td>Voice</td>\n",
              "      <td>0</td>\n",
              "      <td>2012-05-07 23:03:44.0</td>\n",
              "      <td>1</td>\n",
              "      <td>ff16d6ac74c1c64</td>\n",
              "      <td>87d87309c15a8c9</td>\n",
              "      <td>19e2e</td>\n",
              "      <td>19e2e</td>\n",
              "      <td>+854AcBQT2</td>\n",
              "      <td>+854AcBQT2</td>\n",
              "    </tr>\n",
              "    <tr>\n",
              "      <th>2</th>\n",
              "      <td>sms</td>\n",
              "      <td>0</td>\n",
              "      <td>2012-05-07 23:04:06.0</td>\n",
              "      <td>0</td>\n",
              "      <td>98d9f2fb5ff624b</td>\n",
              "      <td>93343ba6e41af95</td>\n",
              "      <td>19e2e</td>\n",
              "      <td>19e2e</td>\n",
              "      <td>+laSrk7g6q</td>\n",
              "      <td>+laSrk7g6q</td>\n",
              "    </tr>\n",
              "    <tr>\n",
              "      <th>3</th>\n",
              "      <td>Voice</td>\n",
              "      <td>37</td>\n",
              "      <td>2012-05-07 23:04:48.0</td>\n",
              "      <td>1</td>\n",
              "      <td>3f9c8a33ec7be1f</td>\n",
              "      <td>7d05a38f89c49d8</td>\n",
              "      <td>19e2e</td>\n",
              "      <td>19e2e</td>\n",
              "      <td>/xvRrCVKoQ</td>\n",
              "      <td>/xvRrCVKoQ</td>\n",
              "    </tr>\n",
              "    <tr>\n",
              "      <th>4</th>\n",
              "      <td>sms</td>\n",
              "      <td>25</td>\n",
              "      <td>2012-05-07 23:04:58.0</td>\n",
              "      <td>1</td>\n",
              "      <td>7bcccc03adf3864</td>\n",
              "      <td>56a5d5430d2fa86</td>\n",
              "      <td>19e2e</td>\n",
              "      <td>19e2e</td>\n",
              "      <td>+bO+qkSonO</td>\n",
              "      <td>+bO+qkSonO</td>\n",
              "    </tr>\n",
              "  </tbody>\n",
              "</table>\n",
              "</div>"
            ],
            "text/plain": [
              "  PRODUCT  VALUE              DATE_TIME  ... COUNTRY_B     CELL_ID     SITE_ID\n",
              "0     sms      0  2012-05-07 23:02:06.0  ...     19e2e  +854AcBQT2  +854AcBQT2\n",
              "1   Voice      0  2012-05-07 23:03:44.0  ...     19e2e  +854AcBQT2  +854AcBQT2\n",
              "2     sms      0  2012-05-07 23:04:06.0  ...     19e2e  +laSrk7g6q  +laSrk7g6q\n",
              "3   Voice     37  2012-05-07 23:04:48.0  ...     19e2e  /xvRrCVKoQ  /xvRrCVKoQ\n",
              "4     sms     25  2012-05-07 23:04:58.0  ...     19e2e  +bO+qkSonO  +bO+qkSonO\n",
              "\n",
              "[5 rows x 10 columns]"
            ]
          },
          "execution_count": 63,
          "metadata": {},
          "output_type": "execute_result"
        }
      ]
    },
    {
      "cell_type": "code",
      "metadata": {
        "colab": {
          "base_uri": "https://localhost:8080/"
        },
        "id": "lfBSUK9dZX0C",
        "outputId": "665d374a-58ca-4645-a6a9-f9f2739315d2"
      },
      "source": [
        "df3 = pd.read_csv(dataset_3)\n",
        "df3.head()"
      ],
      "execution_count": null,
      "outputs": [
        {
          "data": {
            "text/html": [
              "<div>\n",
              "<style scoped>\n",
              "    .dataframe tbody tr th:only-of-type {\n",
              "        vertical-align: middle;\n",
              "    }\n",
              "\n",
              "    .dataframe tbody tr th {\n",
              "        vertical-align: top;\n",
              "    }\n",
              "\n",
              "    .dataframe thead th {\n",
              "        text-align: right;\n",
              "    }\n",
              "</style>\n",
              "<table border=\"1\" class=\"dataframe\">\n",
              "  <thead>\n",
              "    <tr style=\"text-align: right;\">\n",
              "      <th></th>\n",
              "      <th>PRODUCT</th>\n",
              "      <th>VALUE</th>\n",
              "      <th>DATE_TIME</th>\n",
              "      <th>CELL_ON_SITE</th>\n",
              "      <th>DW_A_NUMBER_INT</th>\n",
              "      <th>DW_B_NUMBER_INT</th>\n",
              "      <th>COUNTRY_A</th>\n",
              "      <th>COUNTRY_B</th>\n",
              "      <th>CELLID</th>\n",
              "      <th>SIET_ID</th>\n",
              "    </tr>\n",
              "  </thead>\n",
              "  <tbody>\n",
              "    <tr>\n",
              "      <th>0</th>\n",
              "      <td>Voice</td>\n",
              "      <td>61</td>\n",
              "      <td>2012-05-08 23:01:28.0</td>\n",
              "      <td>2</td>\n",
              "      <td>966f68353622feb</td>\n",
              "      <td>ffd53a3bb2db6f1</td>\n",
              "      <td>19e2e</td>\n",
              "      <td>19e2e</td>\n",
              "      <td>+38u2u/rfx</td>\n",
              "      <td>+38u2u/rfx</td>\n",
              "    </tr>\n",
              "    <tr>\n",
              "      <th>1</th>\n",
              "      <td>sms</td>\n",
              "      <td>0</td>\n",
              "      <td>2012-05-08 23:01:31.0</td>\n",
              "      <td>1</td>\n",
              "      <td>a0a597384c612d7</td>\n",
              "      <td>cf3b218f1dde792</td>\n",
              "      <td>19e2e</td>\n",
              "      <td>19e2e</td>\n",
              "      <td>+Fs4mTvdKx</td>\n",
              "      <td>+Fs4mTvdKx</td>\n",
              "    </tr>\n",
              "    <tr>\n",
              "      <th>2</th>\n",
              "      <td>Voice</td>\n",
              "      <td>10</td>\n",
              "      <td>2012-05-08 23:02:59.0</td>\n",
              "      <td>1</td>\n",
              "      <td>5441a9a58c97132</td>\n",
              "      <td>52f8b299515b9b7</td>\n",
              "      <td>19e2e</td>\n",
              "      <td>19e2e</td>\n",
              "      <td>+ZaaZozy/+</td>\n",
              "      <td>+ZaaZozy/+</td>\n",
              "    </tr>\n",
              "    <tr>\n",
              "      <th>3</th>\n",
              "      <td>sms</td>\n",
              "      <td>0</td>\n",
              "      <td>2012-05-08 23:03:04.0</td>\n",
              "      <td>0</td>\n",
              "      <td>8ab8b9ed6989f61</td>\n",
              "      <td>e09e736e46c5c3d</td>\n",
              "      <td>19e2e</td>\n",
              "      <td>19e2e</td>\n",
              "      <td>+cNeJzsTp3</td>\n",
              "      <td>+cNeJzsTp3</td>\n",
              "    </tr>\n",
              "    <tr>\n",
              "      <th>4</th>\n",
              "      <td>Voice</td>\n",
              "      <td>22</td>\n",
              "      <td>2012-05-08 23:03:16.0</td>\n",
              "      <td>4</td>\n",
              "      <td>52662a62b199334</td>\n",
              "      <td>2186273faab4602</td>\n",
              "      <td>19e2e</td>\n",
              "      <td>19e2e</td>\n",
              "      <td>/eeMklgyJA</td>\n",
              "      <td>/eeMklgyJA</td>\n",
              "    </tr>\n",
              "  </tbody>\n",
              "</table>\n",
              "</div>"
            ],
            "text/plain": [
              "  PRODUCT  VALUE              DATE_TIME  ... COUNTRY_B      CELLID     SIET_ID\n",
              "0   Voice     61  2012-05-08 23:01:28.0  ...     19e2e  +38u2u/rfx  +38u2u/rfx\n",
              "1     sms      0  2012-05-08 23:01:31.0  ...     19e2e  +Fs4mTvdKx  +Fs4mTvdKx\n",
              "2   Voice     10  2012-05-08 23:02:59.0  ...     19e2e  +ZaaZozy/+  +ZaaZozy/+\n",
              "3     sms      0  2012-05-08 23:03:04.0  ...     19e2e  +cNeJzsTp3  +cNeJzsTp3\n",
              "4   Voice     22  2012-05-08 23:03:16.0  ...     19e2e  /eeMklgyJA  /eeMklgyJA\n",
              "\n",
              "[5 rows x 10 columns]"
            ]
          },
          "execution_count": 64,
          "metadata": {},
          "output_type": "execute_result"
        }
      ]
    },
    {
      "cell_type": "code",
      "metadata": {
        "colab": {
          "base_uri": "https://localhost:8080/"
        },
        "id": "icqJUO_38uwv",
        "outputId": "bb35246d-20ce-4b0d-c3a9-3c7bc1333dab"
      },
      "source": [
        "cell_df = pd.read_csv('/content/cells_geo.csv',  index_col = 0, header = 0, delimiter = ';')\n",
        "cell_df.head()"
      ],
      "execution_count": null,
      "outputs": [
        {
          "data": {
            "text/html": [
              "<div>\n",
              "<style scoped>\n",
              "    .dataframe tbody tr th:only-of-type {\n",
              "        vertical-align: middle;\n",
              "    }\n",
              "\n",
              "    .dataframe tbody tr th {\n",
              "        vertical-align: top;\n",
              "    }\n",
              "\n",
              "    .dataframe thead th {\n",
              "        text-align: right;\n",
              "    }\n",
              "</style>\n",
              "<table border=\"1\" class=\"dataframe\">\n",
              "  <thead>\n",
              "    <tr style=\"text-align: right;\">\n",
              "      <th></th>\n",
              "      <th>VILLES</th>\n",
              "      <th>STATUS</th>\n",
              "      <th>LOCALISATION</th>\n",
              "      <th>DECOUPZONE</th>\n",
              "      <th>ZONENAME</th>\n",
              "      <th>LONGITUDE</th>\n",
              "      <th>LATITUDE</th>\n",
              "      <th>REGION</th>\n",
              "      <th>AREA</th>\n",
              "      <th>CELL_ID</th>\n",
              "      <th>SITE_CODE</th>\n",
              "    </tr>\n",
              "  </thead>\n",
              "  <tbody>\n",
              "    <tr>\n",
              "      <th>0</th>\n",
              "      <td>ADJAME</td>\n",
              "      <td>In Service</td>\n",
              "      <td>ABIDJAN</td>\n",
              "      <td>\"Abidjan_EST</td>\n",
              "      <td>AGBANNEW</td>\n",
              "      <td>-4.000667</td>\n",
              "      <td>5.368194</td>\n",
              "      <td>LAGUNE</td>\n",
              "      <td>NaN</td>\n",
              "      <td>fbb2e75af3</td>\n",
              "      <td>0bb492ef17</td>\n",
              "    </tr>\n",
              "    <tr>\n",
              "      <th>1</th>\n",
              "      <td>ADJAME</td>\n",
              "      <td>In Service</td>\n",
              "      <td>ABIDJAN</td>\n",
              "      <td>\"Abidjan_EST</td>\n",
              "      <td>AGBANNEW</td>\n",
              "      <td>-4.000667</td>\n",
              "      <td>5.368194</td>\n",
              "      <td>LAGUNE</td>\n",
              "      <td>NaN</td>\n",
              "      <td>1502501d78</td>\n",
              "      <td>0bb492ef17</td>\n",
              "    </tr>\n",
              "    <tr>\n",
              "      <th>2</th>\n",
              "      <td>ADJAME</td>\n",
              "      <td>In Service</td>\n",
              "      <td>ABIDJAN</td>\n",
              "      <td>\"Abidjan_EST</td>\n",
              "      <td>AGBANNEW</td>\n",
              "      <td>-4.000667</td>\n",
              "      <td>5.368194</td>\n",
              "      <td>LAGUNE</td>\n",
              "      <td>NaN</td>\n",
              "      <td>0c2e182a0c</td>\n",
              "      <td>0bb492ef17</td>\n",
              "    </tr>\n",
              "    <tr>\n",
              "      <th>3</th>\n",
              "      <td>ASSINIE</td>\n",
              "      <td>In Service</td>\n",
              "      <td>INTERIEUR</td>\n",
              "      <td>Grand-EST</td>\n",
              "      <td>ASSINIE\"</td>\n",
              "      <td>-3.488467</td>\n",
              "      <td>5.158761</td>\n",
              "      <td>SUD COMOE</td>\n",
              "      <td>NaN</td>\n",
              "      <td>69bdfc69fd</td>\n",
              "      <td>8a1e6ce31f</td>\n",
              "    </tr>\n",
              "    <tr>\n",
              "      <th>4</th>\n",
              "      <td>ASSINIE</td>\n",
              "      <td>In Service</td>\n",
              "      <td>INTERIEUR</td>\n",
              "      <td>Grand-EST</td>\n",
              "      <td>ASSINIE\"</td>\n",
              "      <td>-3.488467</td>\n",
              "      <td>5.158761</td>\n",
              "      <td>SUD COMOE</td>\n",
              "      <td>NaN</td>\n",
              "      <td>7a1029d2ab</td>\n",
              "      <td>8a1e6ce31f</td>\n",
              "    </tr>\n",
              "  </tbody>\n",
              "</table>\n",
              "</div>"
            ],
            "text/plain": [
              "    VILLES      STATUS LOCALISATION  ... AREA     CELL_ID   SITE_CODE\n",
              "0   ADJAME  In Service      ABIDJAN  ...  NaN  fbb2e75af3  0bb492ef17\n",
              "1   ADJAME  In Service      ABIDJAN  ...  NaN  1502501d78  0bb492ef17\n",
              "2   ADJAME  In Service      ABIDJAN  ...  NaN  0c2e182a0c  0bb492ef17\n",
              "3  ASSINIE  In Service    INTERIEUR  ...  NaN  69bdfc69fd  8a1e6ce31f\n",
              "4  ASSINIE  In Service    INTERIEUR  ...  NaN  7a1029d2ab  8a1e6ce31f\n",
              "\n",
              "[5 rows x 11 columns]"
            ]
          },
          "execution_count": 65,
          "metadata": {},
          "output_type": "execute_result"
        }
      ]
    },
    {
      "cell_type": "code",
      "metadata": {
        "id": "OfmmEc358uus"
      },
      "source": [
        ""
      ],
      "execution_count": null,
      "outputs": []
    },
    {
      "cell_type": "markdown",
      "metadata": {
        "id": "C8Jg-y-mfyyg"
      },
      "source": [
        "DATA CLEANING\n"
      ]
    },
    {
      "cell_type": "code",
      "metadata": {
        "colab": {
          "base_uri": "https://localhost:8080/"
        },
        "id": "pOKijRLmZimm",
        "outputId": "8bfa04f6-67a1-4f9b-d46c-f7ff3baab47c"
      },
      "source": [
        "# checking for missing values\n",
        "df1.isna().sum()"
      ],
      "execution_count": null,
      "outputs": [
        {
          "data": {
            "text/plain": [
              "PRODUTC              0\n",
              "VALUE                0\n",
              "DATETIME             0\n",
              "CELL_ON_SITE         0\n",
              "DW_A_NUMBER_INT      0\n",
              "DW_B_NUMBER_INT      0\n",
              "COUNTRY_A            0\n",
              "COUNTRY_B            0\n",
              "CELL_ID              0\n",
              "SITE_ID            716\n",
              "dtype: int64"
            ]
          },
          "execution_count": 66,
          "metadata": {},
          "output_type": "execute_result"
        }
      ]
    },
    {
      "cell_type": "code",
      "metadata": {
        "colab": {
          "base_uri": "https://localhost:8080/"
        },
        "id": "NQnaNGSRaLE5",
        "outputId": "5bdbd2cc-261e-4ec4-ce5e-c6033ea3ebf2"
      },
      "source": [
        "df2.isna().sum()"
      ],
      "execution_count": null,
      "outputs": [
        {
          "data": {
            "text/plain": [
              "PRODUCT           0\n",
              "VALUE             0\n",
              "DATE_TIME         0\n",
              "CELL_ON_SITE      0\n",
              "DW_A_NUMBER       0\n",
              "DW_B_NUMBER       0\n",
              "COUNTRY_A         0\n",
              "COUNTRY_B         0\n",
              "CELL_ID           0\n",
              "SITE_ID         676\n",
              "dtype: int64"
            ]
          },
          "execution_count": 67,
          "metadata": {},
          "output_type": "execute_result"
        }
      ]
    },
    {
      "cell_type": "code",
      "metadata": {
        "colab": {
          "base_uri": "https://localhost:8080/"
        },
        "id": "0JHFm4GDaToi",
        "outputId": "0adb1f69-322d-4f3c-ea4c-50e4ae3c6ac5"
      },
      "source": [
        "df3.isna().sum()"
      ],
      "execution_count": null,
      "outputs": [
        {
          "data": {
            "text/plain": [
              "PRODUCT              0\n",
              "VALUE                0\n",
              "DATE_TIME            0\n",
              "CELL_ON_SITE         0\n",
              "DW_A_NUMBER_INT      0\n",
              "DW_B_NUMBER_INT      0\n",
              "COUNTRY_A            0\n",
              "COUNTRY_B            0\n",
              "CELLID               0\n",
              "SIET_ID            605\n",
              "dtype: int64"
            ]
          },
          "execution_count": 68,
          "metadata": {},
          "output_type": "execute_result"
        }
      ]
    },
    {
      "cell_type": "code",
      "metadata": {
        "colab": {
          "base_uri": "https://localhost:8080/"
        },
        "id": "mALkb8odCB8g",
        "outputId": "58d75817-6297-4c8d-b349-68164fc679e9"
      },
      "source": [
        "cell_df.isna().sum()"
      ],
      "execution_count": null,
      "outputs": [
        {
          "data": {
            "text/plain": [
              "VILLES           0\n",
              "STATUS          67\n",
              "LOCALISATION     0\n",
              "DECOUPZONE       0\n",
              "ZONENAME         6\n",
              "LONGITUDE        0\n",
              "LATITUDE         0\n",
              "REGION           0\n",
              "AREA            23\n",
              "CELL_ID          0\n",
              "SITE_CODE        0\n",
              "dtype: int64"
            ]
          },
          "execution_count": 69,
          "metadata": {},
          "output_type": "execute_result"
        }
      ]
    },
    {
      "cell_type": "code",
      "metadata": {
        "colab": {
          "base_uri": "https://localhost:8080/"
        },
        "id": "ajwjQAWKaZ_O",
        "outputId": "7f09a6b0-6b4c-4443-fed1-63e362f7807d"
      },
      "source": [
        "# Correct the column name spelled wrongly\n",
        "df3 = df3.rename(columns = {'SIET_ID': 'SITE_ID'}, inplace = False)\n",
        "df3.head()"
      ],
      "execution_count": null,
      "outputs": [
        {
          "data": {
            "text/html": [
              "<div>\n",
              "<style scoped>\n",
              "    .dataframe tbody tr th:only-of-type {\n",
              "        vertical-align: middle;\n",
              "    }\n",
              "\n",
              "    .dataframe tbody tr th {\n",
              "        vertical-align: top;\n",
              "    }\n",
              "\n",
              "    .dataframe thead th {\n",
              "        text-align: right;\n",
              "    }\n",
              "</style>\n",
              "<table border=\"1\" class=\"dataframe\">\n",
              "  <thead>\n",
              "    <tr style=\"text-align: right;\">\n",
              "      <th></th>\n",
              "      <th>PRODUCT</th>\n",
              "      <th>VALUE</th>\n",
              "      <th>DATE_TIME</th>\n",
              "      <th>CELL_ON_SITE</th>\n",
              "      <th>DW_A_NUMBER_INT</th>\n",
              "      <th>DW_B_NUMBER_INT</th>\n",
              "      <th>COUNTRY_A</th>\n",
              "      <th>COUNTRY_B</th>\n",
              "      <th>CELLID</th>\n",
              "      <th>SITE_ID</th>\n",
              "    </tr>\n",
              "  </thead>\n",
              "  <tbody>\n",
              "    <tr>\n",
              "      <th>0</th>\n",
              "      <td>Voice</td>\n",
              "      <td>61</td>\n",
              "      <td>2012-05-08 23:01:28.0</td>\n",
              "      <td>2</td>\n",
              "      <td>966f68353622feb</td>\n",
              "      <td>ffd53a3bb2db6f1</td>\n",
              "      <td>19e2e</td>\n",
              "      <td>19e2e</td>\n",
              "      <td>+38u2u/rfx</td>\n",
              "      <td>+38u2u/rfx</td>\n",
              "    </tr>\n",
              "    <tr>\n",
              "      <th>1</th>\n",
              "      <td>sms</td>\n",
              "      <td>0</td>\n",
              "      <td>2012-05-08 23:01:31.0</td>\n",
              "      <td>1</td>\n",
              "      <td>a0a597384c612d7</td>\n",
              "      <td>cf3b218f1dde792</td>\n",
              "      <td>19e2e</td>\n",
              "      <td>19e2e</td>\n",
              "      <td>+Fs4mTvdKx</td>\n",
              "      <td>+Fs4mTvdKx</td>\n",
              "    </tr>\n",
              "    <tr>\n",
              "      <th>2</th>\n",
              "      <td>Voice</td>\n",
              "      <td>10</td>\n",
              "      <td>2012-05-08 23:02:59.0</td>\n",
              "      <td>1</td>\n",
              "      <td>5441a9a58c97132</td>\n",
              "      <td>52f8b299515b9b7</td>\n",
              "      <td>19e2e</td>\n",
              "      <td>19e2e</td>\n",
              "      <td>+ZaaZozy/+</td>\n",
              "      <td>+ZaaZozy/+</td>\n",
              "    </tr>\n",
              "    <tr>\n",
              "      <th>3</th>\n",
              "      <td>sms</td>\n",
              "      <td>0</td>\n",
              "      <td>2012-05-08 23:03:04.0</td>\n",
              "      <td>0</td>\n",
              "      <td>8ab8b9ed6989f61</td>\n",
              "      <td>e09e736e46c5c3d</td>\n",
              "      <td>19e2e</td>\n",
              "      <td>19e2e</td>\n",
              "      <td>+cNeJzsTp3</td>\n",
              "      <td>+cNeJzsTp3</td>\n",
              "    </tr>\n",
              "    <tr>\n",
              "      <th>4</th>\n",
              "      <td>Voice</td>\n",
              "      <td>22</td>\n",
              "      <td>2012-05-08 23:03:16.0</td>\n",
              "      <td>4</td>\n",
              "      <td>52662a62b199334</td>\n",
              "      <td>2186273faab4602</td>\n",
              "      <td>19e2e</td>\n",
              "      <td>19e2e</td>\n",
              "      <td>/eeMklgyJA</td>\n",
              "      <td>/eeMklgyJA</td>\n",
              "    </tr>\n",
              "  </tbody>\n",
              "</table>\n",
              "</div>"
            ],
            "text/plain": [
              "  PRODUCT  VALUE              DATE_TIME  ... COUNTRY_B      CELLID     SITE_ID\n",
              "0   Voice     61  2012-05-08 23:01:28.0  ...     19e2e  +38u2u/rfx  +38u2u/rfx\n",
              "1     sms      0  2012-05-08 23:01:31.0  ...     19e2e  +Fs4mTvdKx  +Fs4mTvdKx\n",
              "2   Voice     10  2012-05-08 23:02:59.0  ...     19e2e  +ZaaZozy/+  +ZaaZozy/+\n",
              "3     sms      0  2012-05-08 23:03:04.0  ...     19e2e  +cNeJzsTp3  +cNeJzsTp3\n",
              "4   Voice     22  2012-05-08 23:03:16.0  ...     19e2e  /eeMklgyJA  /eeMklgyJA\n",
              "\n",
              "[5 rows x 10 columns]"
            ]
          },
          "execution_count": 70,
          "metadata": {},
          "output_type": "execute_result"
        }
      ]
    },
    {
      "cell_type": "code",
      "metadata": {
        "colab": {
          "base_uri": "https://localhost:8080/"
        },
        "id": "eXHYHCPv203o",
        "outputId": "974cf62b-b3fe-4ad2-db57-4977839e030a"
      },
      "source": [
        "df3 = df3.rename(columns = {'CELLID': 'CELL_ID'}, inplace = False)\n",
        "df3.head()"
      ],
      "execution_count": null,
      "outputs": [
        {
          "data": {
            "text/html": [
              "<div>\n",
              "<style scoped>\n",
              "    .dataframe tbody tr th:only-of-type {\n",
              "        vertical-align: middle;\n",
              "    }\n",
              "\n",
              "    .dataframe tbody tr th {\n",
              "        vertical-align: top;\n",
              "    }\n",
              "\n",
              "    .dataframe thead th {\n",
              "        text-align: right;\n",
              "    }\n",
              "</style>\n",
              "<table border=\"1\" class=\"dataframe\">\n",
              "  <thead>\n",
              "    <tr style=\"text-align: right;\">\n",
              "      <th></th>\n",
              "      <th>PRODUCT</th>\n",
              "      <th>VALUE</th>\n",
              "      <th>DATE_TIME</th>\n",
              "      <th>CELL_ON_SITE</th>\n",
              "      <th>DW_A_NUMBER_INT</th>\n",
              "      <th>DW_B_NUMBER_INT</th>\n",
              "      <th>COUNTRY_A</th>\n",
              "      <th>COUNTRY_B</th>\n",
              "      <th>CELL_ID</th>\n",
              "      <th>SITE_ID</th>\n",
              "    </tr>\n",
              "  </thead>\n",
              "  <tbody>\n",
              "    <tr>\n",
              "      <th>0</th>\n",
              "      <td>Voice</td>\n",
              "      <td>61</td>\n",
              "      <td>2012-05-08 23:01:28.0</td>\n",
              "      <td>2</td>\n",
              "      <td>966f68353622feb</td>\n",
              "      <td>ffd53a3bb2db6f1</td>\n",
              "      <td>19e2e</td>\n",
              "      <td>19e2e</td>\n",
              "      <td>+38u2u/rfx</td>\n",
              "      <td>+38u2u/rfx</td>\n",
              "    </tr>\n",
              "    <tr>\n",
              "      <th>1</th>\n",
              "      <td>sms</td>\n",
              "      <td>0</td>\n",
              "      <td>2012-05-08 23:01:31.0</td>\n",
              "      <td>1</td>\n",
              "      <td>a0a597384c612d7</td>\n",
              "      <td>cf3b218f1dde792</td>\n",
              "      <td>19e2e</td>\n",
              "      <td>19e2e</td>\n",
              "      <td>+Fs4mTvdKx</td>\n",
              "      <td>+Fs4mTvdKx</td>\n",
              "    </tr>\n",
              "    <tr>\n",
              "      <th>2</th>\n",
              "      <td>Voice</td>\n",
              "      <td>10</td>\n",
              "      <td>2012-05-08 23:02:59.0</td>\n",
              "      <td>1</td>\n",
              "      <td>5441a9a58c97132</td>\n",
              "      <td>52f8b299515b9b7</td>\n",
              "      <td>19e2e</td>\n",
              "      <td>19e2e</td>\n",
              "      <td>+ZaaZozy/+</td>\n",
              "      <td>+ZaaZozy/+</td>\n",
              "    </tr>\n",
              "    <tr>\n",
              "      <th>3</th>\n",
              "      <td>sms</td>\n",
              "      <td>0</td>\n",
              "      <td>2012-05-08 23:03:04.0</td>\n",
              "      <td>0</td>\n",
              "      <td>8ab8b9ed6989f61</td>\n",
              "      <td>e09e736e46c5c3d</td>\n",
              "      <td>19e2e</td>\n",
              "      <td>19e2e</td>\n",
              "      <td>+cNeJzsTp3</td>\n",
              "      <td>+cNeJzsTp3</td>\n",
              "    </tr>\n",
              "    <tr>\n",
              "      <th>4</th>\n",
              "      <td>Voice</td>\n",
              "      <td>22</td>\n",
              "      <td>2012-05-08 23:03:16.0</td>\n",
              "      <td>4</td>\n",
              "      <td>52662a62b199334</td>\n",
              "      <td>2186273faab4602</td>\n",
              "      <td>19e2e</td>\n",
              "      <td>19e2e</td>\n",
              "      <td>/eeMklgyJA</td>\n",
              "      <td>/eeMklgyJA</td>\n",
              "    </tr>\n",
              "  </tbody>\n",
              "</table>\n",
              "</div>"
            ],
            "text/plain": [
              "  PRODUCT  VALUE              DATE_TIME  ... COUNTRY_B     CELL_ID     SITE_ID\n",
              "0   Voice     61  2012-05-08 23:01:28.0  ...     19e2e  +38u2u/rfx  +38u2u/rfx\n",
              "1     sms      0  2012-05-08 23:01:31.0  ...     19e2e  +Fs4mTvdKx  +Fs4mTvdKx\n",
              "2   Voice     10  2012-05-08 23:02:59.0  ...     19e2e  +ZaaZozy/+  +ZaaZozy/+\n",
              "3     sms      0  2012-05-08 23:03:04.0  ...     19e2e  +cNeJzsTp3  +cNeJzsTp3\n",
              "4   Voice     22  2012-05-08 23:03:16.0  ...     19e2e  /eeMklgyJA  /eeMklgyJA\n",
              "\n",
              "[5 rows x 10 columns]"
            ]
          },
          "execution_count": 71,
          "metadata": {},
          "output_type": "execute_result"
        }
      ]
    },
    {
      "cell_type": "code",
      "metadata": {
        "colab": {
          "base_uri": "https://localhost:8080/"
        },
        "id": "b8NPpCK9201z",
        "outputId": "1403612b-b5ca-4035-9602-aecbdb778094"
      },
      "source": [
        "df2 = df2.rename(columns = {'DW_A_NUMBER': 'DW_A_NUMBER_INT'}, inplace = False)\n",
        "df2 = df2.rename(columns = {'DW_B_NUMBER': 'DW_B_NUMBER_INT'}, inplace = False)\n",
        "df2.head()"
      ],
      "execution_count": null,
      "outputs": [
        {
          "data": {
            "text/html": [
              "<div>\n",
              "<style scoped>\n",
              "    .dataframe tbody tr th:only-of-type {\n",
              "        vertical-align: middle;\n",
              "    }\n",
              "\n",
              "    .dataframe tbody tr th {\n",
              "        vertical-align: top;\n",
              "    }\n",
              "\n",
              "    .dataframe thead th {\n",
              "        text-align: right;\n",
              "    }\n",
              "</style>\n",
              "<table border=\"1\" class=\"dataframe\">\n",
              "  <thead>\n",
              "    <tr style=\"text-align: right;\">\n",
              "      <th></th>\n",
              "      <th>PRODUCT</th>\n",
              "      <th>VALUE</th>\n",
              "      <th>DATE_TIME</th>\n",
              "      <th>CELL_ON_SITE</th>\n",
              "      <th>DW_A_NUMBER_INT</th>\n",
              "      <th>DW_B_NUMBER_INT</th>\n",
              "      <th>COUNTRY_A</th>\n",
              "      <th>COUNTRY_B</th>\n",
              "      <th>CELL_ID</th>\n",
              "      <th>SITE_ID</th>\n",
              "    </tr>\n",
              "  </thead>\n",
              "  <tbody>\n",
              "    <tr>\n",
              "      <th>0</th>\n",
              "      <td>sms</td>\n",
              "      <td>0</td>\n",
              "      <td>2012-05-07 23:02:06.0</td>\n",
              "      <td>2</td>\n",
              "      <td>32255675c3b6fe3</td>\n",
              "      <td>1aa7ae01386e9fb</td>\n",
              "      <td>19e2e</td>\n",
              "      <td>19e2e</td>\n",
              "      <td>+854AcBQT2</td>\n",
              "      <td>+854AcBQT2</td>\n",
              "    </tr>\n",
              "    <tr>\n",
              "      <th>1</th>\n",
              "      <td>Voice</td>\n",
              "      <td>0</td>\n",
              "      <td>2012-05-07 23:03:44.0</td>\n",
              "      <td>1</td>\n",
              "      <td>ff16d6ac74c1c64</td>\n",
              "      <td>87d87309c15a8c9</td>\n",
              "      <td>19e2e</td>\n",
              "      <td>19e2e</td>\n",
              "      <td>+854AcBQT2</td>\n",
              "      <td>+854AcBQT2</td>\n",
              "    </tr>\n",
              "    <tr>\n",
              "      <th>2</th>\n",
              "      <td>sms</td>\n",
              "      <td>0</td>\n",
              "      <td>2012-05-07 23:04:06.0</td>\n",
              "      <td>0</td>\n",
              "      <td>98d9f2fb5ff624b</td>\n",
              "      <td>93343ba6e41af95</td>\n",
              "      <td>19e2e</td>\n",
              "      <td>19e2e</td>\n",
              "      <td>+laSrk7g6q</td>\n",
              "      <td>+laSrk7g6q</td>\n",
              "    </tr>\n",
              "    <tr>\n",
              "      <th>3</th>\n",
              "      <td>Voice</td>\n",
              "      <td>37</td>\n",
              "      <td>2012-05-07 23:04:48.0</td>\n",
              "      <td>1</td>\n",
              "      <td>3f9c8a33ec7be1f</td>\n",
              "      <td>7d05a38f89c49d8</td>\n",
              "      <td>19e2e</td>\n",
              "      <td>19e2e</td>\n",
              "      <td>/xvRrCVKoQ</td>\n",
              "      <td>/xvRrCVKoQ</td>\n",
              "    </tr>\n",
              "    <tr>\n",
              "      <th>4</th>\n",
              "      <td>sms</td>\n",
              "      <td>25</td>\n",
              "      <td>2012-05-07 23:04:58.0</td>\n",
              "      <td>1</td>\n",
              "      <td>7bcccc03adf3864</td>\n",
              "      <td>56a5d5430d2fa86</td>\n",
              "      <td>19e2e</td>\n",
              "      <td>19e2e</td>\n",
              "      <td>+bO+qkSonO</td>\n",
              "      <td>+bO+qkSonO</td>\n",
              "    </tr>\n",
              "  </tbody>\n",
              "</table>\n",
              "</div>"
            ],
            "text/plain": [
              "  PRODUCT  VALUE              DATE_TIME  ... COUNTRY_B     CELL_ID     SITE_ID\n",
              "0     sms      0  2012-05-07 23:02:06.0  ...     19e2e  +854AcBQT2  +854AcBQT2\n",
              "1   Voice      0  2012-05-07 23:03:44.0  ...     19e2e  +854AcBQT2  +854AcBQT2\n",
              "2     sms      0  2012-05-07 23:04:06.0  ...     19e2e  +laSrk7g6q  +laSrk7g6q\n",
              "3   Voice     37  2012-05-07 23:04:48.0  ...     19e2e  /xvRrCVKoQ  /xvRrCVKoQ\n",
              "4     sms     25  2012-05-07 23:04:58.0  ...     19e2e  +bO+qkSonO  +bO+qkSonO\n",
              "\n",
              "[5 rows x 10 columns]"
            ]
          },
          "execution_count": 72,
          "metadata": {},
          "output_type": "execute_result"
        }
      ]
    },
    {
      "cell_type": "code",
      "metadata": {
        "colab": {
          "base_uri": "https://localhost:8080/"
        },
        "id": "GdXiFRAnp6Fx",
        "outputId": "0618689b-05af-4eca-a72d-4f90d98fb576"
      },
      "source": [
        "df1 = df1.rename(columns = {'PRODUTC': 'PRODUCT'}, inplace = False)\n",
        "df1 = df1.rename(columns = {'DATETIME': 'DATE_TIME'}, inplace = False)\n",
        "df1.head()"
      ],
      "execution_count": null,
      "outputs": [
        {
          "data": {
            "text/html": [
              "<div>\n",
              "<style scoped>\n",
              "    .dataframe tbody tr th:only-of-type {\n",
              "        vertical-align: middle;\n",
              "    }\n",
              "\n",
              "    .dataframe tbody tr th {\n",
              "        vertical-align: top;\n",
              "    }\n",
              "\n",
              "    .dataframe thead th {\n",
              "        text-align: right;\n",
              "    }\n",
              "</style>\n",
              "<table border=\"1\" class=\"dataframe\">\n",
              "  <thead>\n",
              "    <tr style=\"text-align: right;\">\n",
              "      <th></th>\n",
              "      <th>PRODUCT</th>\n",
              "      <th>VALUE</th>\n",
              "      <th>DATE_TIME</th>\n",
              "      <th>CELL_ON_SITE</th>\n",
              "      <th>DW_A_NUMBER_INT</th>\n",
              "      <th>DW_B_NUMBER_INT</th>\n",
              "      <th>COUNTRY_A</th>\n",
              "      <th>COUNTRY_B</th>\n",
              "      <th>CELL_ID</th>\n",
              "      <th>SITE_ID</th>\n",
              "    </tr>\n",
              "  </thead>\n",
              "  <tbody>\n",
              "    <tr>\n",
              "      <th>0</th>\n",
              "      <td>Voice</td>\n",
              "      <td>0</td>\n",
              "      <td>2012-05-06 23:04:37.0</td>\n",
              "      <td>1</td>\n",
              "      <td>49fae048b547780</td>\n",
              "      <td>1a49f8b0ded9de6</td>\n",
              "      <td>19e2e</td>\n",
              "      <td>19e2e</td>\n",
              "      <td>/TJNe+Mmtu</td>\n",
              "      <td>/TJNe+Mmtu</td>\n",
              "    </tr>\n",
              "    <tr>\n",
              "      <th>1</th>\n",
              "      <td>sms</td>\n",
              "      <td>0</td>\n",
              "      <td>2012-05-06 23:05:25.0</td>\n",
              "      <td>0</td>\n",
              "      <td>7a54a6eaee19e65</td>\n",
              "      <td>93343ba6e41af95</td>\n",
              "      <td>19e2e</td>\n",
              "      <td>19e2e</td>\n",
              "      <td>/+cKZKIp41</td>\n",
              "      <td>/+cKZKIp41</td>\n",
              "    </tr>\n",
              "    <tr>\n",
              "      <th>2</th>\n",
              "      <td>sms</td>\n",
              "      <td>25</td>\n",
              "      <td>2012-05-06 23:05:41.0</td>\n",
              "      <td>0</td>\n",
              "      <td>6008887b0207d82</td>\n",
              "      <td>7aacc9709ce0a20</td>\n",
              "      <td>19e2e</td>\n",
              "      <td>19e2e</td>\n",
              "      <td>/u0FSD+ahi</td>\n",
              "      <td>/u0FSD+ahi</td>\n",
              "    </tr>\n",
              "    <tr>\n",
              "      <th>3</th>\n",
              "      <td>Voice</td>\n",
              "      <td>56</td>\n",
              "      <td>2012-05-06 23:05:42.0</td>\n",
              "      <td>1</td>\n",
              "      <td>7370032e20f4e96</td>\n",
              "      <td>6af4a60e74c91d3</td>\n",
              "      <td>19e2e</td>\n",
              "      <td>19e2e</td>\n",
              "      <td>+cNeJzsTp3</td>\n",
              "      <td>+cNeJzsTp3</td>\n",
              "    </tr>\n",
              "    <tr>\n",
              "      <th>4</th>\n",
              "      <td>Voice</td>\n",
              "      <td>14</td>\n",
              "      <td>2012-05-06 23:06:29.0</td>\n",
              "      <td>1</td>\n",
              "      <td>966ba4656e38e62</td>\n",
              "      <td>02aa736ee555d5c</td>\n",
              "      <td>19e2e</td>\n",
              "      <td>19e2e</td>\n",
              "      <td>051KhYDCpv</td>\n",
              "      <td>051KhYDCpv</td>\n",
              "    </tr>\n",
              "  </tbody>\n",
              "</table>\n",
              "</div>"
            ],
            "text/plain": [
              "  PRODUCT  VALUE              DATE_TIME  ... COUNTRY_B     CELL_ID     SITE_ID\n",
              "0   Voice      0  2012-05-06 23:04:37.0  ...     19e2e  /TJNe+Mmtu  /TJNe+Mmtu\n",
              "1     sms      0  2012-05-06 23:05:25.0  ...     19e2e  /+cKZKIp41  /+cKZKIp41\n",
              "2     sms     25  2012-05-06 23:05:41.0  ...     19e2e  /u0FSD+ahi  /u0FSD+ahi\n",
              "3   Voice     56  2012-05-06 23:05:42.0  ...     19e2e  +cNeJzsTp3  +cNeJzsTp3\n",
              "4   Voice     14  2012-05-06 23:06:29.0  ...     19e2e  051KhYDCpv  051KhYDCpv\n",
              "\n",
              "[5 rows x 10 columns]"
            ]
          },
          "execution_count": 73,
          "metadata": {},
          "output_type": "execute_result"
        }
      ]
    },
    {
      "cell_type": "code",
      "metadata": {
        "colab": {
          "base_uri": "https://localhost:8080/"
        },
        "id": "fplUb5MMazIm",
        "outputId": "830f206b-fc6f-4c5d-d0bc-e9831edefc02"
      },
      "source": [
        "# replace the missing values in SITE_ID\n",
        "df1['SITE_ID'] = df1['SITE_ID'].fillna(0)\n",
        "df1.tail()"
      ],
      "execution_count": null,
      "outputs": [
        {
          "data": {
            "text/html": [
              "<div>\n",
              "<style scoped>\n",
              "    .dataframe tbody tr th:only-of-type {\n",
              "        vertical-align: middle;\n",
              "    }\n",
              "\n",
              "    .dataframe tbody tr th {\n",
              "        vertical-align: top;\n",
              "    }\n",
              "\n",
              "    .dataframe thead th {\n",
              "        text-align: right;\n",
              "    }\n",
              "</style>\n",
              "<table border=\"1\" class=\"dataframe\">\n",
              "  <thead>\n",
              "    <tr style=\"text-align: right;\">\n",
              "      <th></th>\n",
              "      <th>PRODUCT</th>\n",
              "      <th>VALUE</th>\n",
              "      <th>DATE_TIME</th>\n",
              "      <th>CELL_ON_SITE</th>\n",
              "      <th>DW_A_NUMBER_INT</th>\n",
              "      <th>DW_B_NUMBER_INT</th>\n",
              "      <th>COUNTRY_A</th>\n",
              "      <th>COUNTRY_B</th>\n",
              "      <th>CELL_ID</th>\n",
              "      <th>SITE_ID</th>\n",
              "    </tr>\n",
              "  </thead>\n",
              "  <tbody>\n",
              "    <tr>\n",
              "      <th>4996</th>\n",
              "      <td>sms</td>\n",
              "      <td>100</td>\n",
              "      <td>2012-05-07 00:01:54.0</td>\n",
              "      <td>0</td>\n",
              "      <td>92e367d671f45c5</td>\n",
              "      <td>38811081cf82c90</td>\n",
              "      <td>19e2e</td>\n",
              "      <td>OTHER</td>\n",
              "      <td>0c2371d9bc</td>\n",
              "      <td>1e751d08a4</td>\n",
              "    </tr>\n",
              "    <tr>\n",
              "      <th>4997</th>\n",
              "      <td>Voice</td>\n",
              "      <td>1</td>\n",
              "      <td>2012-05-07 00:01:54.0</td>\n",
              "      <td>1</td>\n",
              "      <td>83b44b18238e602</td>\n",
              "      <td>6ec63d4aa5de5dd</td>\n",
              "      <td>19e2e</td>\n",
              "      <td>19e2e</td>\n",
              "      <td>5fb791cf56</td>\n",
              "      <td>65efe2bc62</td>\n",
              "    </tr>\n",
              "    <tr>\n",
              "      <th>4998</th>\n",
              "      <td>Voice</td>\n",
              "      <td>0</td>\n",
              "      <td>2012-05-07 00:01:54.0</td>\n",
              "      <td>1</td>\n",
              "      <td>49fae048b547780</td>\n",
              "      <td>1a49f8b0ded9de6</td>\n",
              "      <td>19e2e</td>\n",
              "      <td>19e2e</td>\n",
              "      <td>7773627c12</td>\n",
              "      <td>9ef9616350</td>\n",
              "    </tr>\n",
              "    <tr>\n",
              "      <th>4999</th>\n",
              "      <td>Voice</td>\n",
              "      <td>0</td>\n",
              "      <td>2012-05-07 00:01:54.0</td>\n",
              "      <td>0</td>\n",
              "      <td>a1613f1a992716a</td>\n",
              "      <td>bd663f07b6c8bcd</td>\n",
              "      <td>19e2e</td>\n",
              "      <td>19e2e</td>\n",
              "      <td>3f4af49d6c</td>\n",
              "      <td>969b8d0e39</td>\n",
              "    </tr>\n",
              "    <tr>\n",
              "      <th>5000</th>\n",
              "      <td>Voice</td>\n",
              "      <td>7</td>\n",
              "      <td>2012-05-07 00:01:54.0</td>\n",
              "      <td>2</td>\n",
              "      <td>1670a5f7c22f4ed</td>\n",
              "      <td>3600efd094f2225</td>\n",
              "      <td>19e2e</td>\n",
              "      <td>19e2e</td>\n",
              "      <td>6f4d9b77a5</td>\n",
              "      <td>ebfc58af70</td>\n",
              "    </tr>\n",
              "  </tbody>\n",
              "</table>\n",
              "</div>"
            ],
            "text/plain": [
              "     PRODUCT  VALUE              DATE_TIME  ... COUNTRY_B     CELL_ID     SITE_ID\n",
              "4996     sms    100  2012-05-07 00:01:54.0  ...     OTHER  0c2371d9bc  1e751d08a4\n",
              "4997   Voice      1  2012-05-07 00:01:54.0  ...     19e2e  5fb791cf56  65efe2bc62\n",
              "4998   Voice      0  2012-05-07 00:01:54.0  ...     19e2e  7773627c12  9ef9616350\n",
              "4999   Voice      0  2012-05-07 00:01:54.0  ...     19e2e  3f4af49d6c  969b8d0e39\n",
              "5000   Voice      7  2012-05-07 00:01:54.0  ...     19e2e  6f4d9b77a5  ebfc58af70\n",
              "\n",
              "[5 rows x 10 columns]"
            ]
          },
          "execution_count": 74,
          "metadata": {},
          "output_type": "execute_result"
        }
      ]
    },
    {
      "cell_type": "code",
      "metadata": {
        "colab": {
          "base_uri": "https://localhost:8080/"
        },
        "id": "IRXwhdQ6dRgv",
        "outputId": "74ebf52f-de75-4194-ea0d-4253d8ad7bc4"
      },
      "source": [
        "df2['SITE_ID'] = df2['SITE_ID'].fillna(0)\n",
        "df2.tail()"
      ],
      "execution_count": null,
      "outputs": [
        {
          "data": {
            "text/html": [
              "<div>\n",
              "<style scoped>\n",
              "    .dataframe tbody tr th:only-of-type {\n",
              "        vertical-align: middle;\n",
              "    }\n",
              "\n",
              "    .dataframe tbody tr th {\n",
              "        vertical-align: top;\n",
              "    }\n",
              "\n",
              "    .dataframe thead th {\n",
              "        text-align: right;\n",
              "    }\n",
              "</style>\n",
              "<table border=\"1\" class=\"dataframe\">\n",
              "  <thead>\n",
              "    <tr style=\"text-align: right;\">\n",
              "      <th></th>\n",
              "      <th>PRODUCT</th>\n",
              "      <th>VALUE</th>\n",
              "      <th>DATE_TIME</th>\n",
              "      <th>CELL_ON_SITE</th>\n",
              "      <th>DW_A_NUMBER_INT</th>\n",
              "      <th>DW_B_NUMBER_INT</th>\n",
              "      <th>COUNTRY_A</th>\n",
              "      <th>COUNTRY_B</th>\n",
              "      <th>CELL_ID</th>\n",
              "      <th>SITE_ID</th>\n",
              "    </tr>\n",
              "  </thead>\n",
              "  <tbody>\n",
              "    <tr>\n",
              "      <th>4996</th>\n",
              "      <td>sms</td>\n",
              "      <td>0</td>\n",
              "      <td>2012-05-08 00:01:53.0</td>\n",
              "      <td>8</td>\n",
              "      <td>22ffbbb8ac8cde1</td>\n",
              "      <td>8db839a0c08bd54</td>\n",
              "      <td>19e2e</td>\n",
              "      <td>19e2e</td>\n",
              "      <td>896459aace</td>\n",
              "      <td>b7d00e59e4</td>\n",
              "    </tr>\n",
              "    <tr>\n",
              "      <th>4997</th>\n",
              "      <td>sms</td>\n",
              "      <td>25</td>\n",
              "      <td>2012-05-08 00:01:53.0</td>\n",
              "      <td>0</td>\n",
              "      <td>bcf512a3542d42c</td>\n",
              "      <td>5a2848d6f983c31</td>\n",
              "      <td>19e2e</td>\n",
              "      <td>19e2e</td>\n",
              "      <td>7e90b35166</td>\n",
              "      <td>211015b14d</td>\n",
              "    </tr>\n",
              "    <tr>\n",
              "      <th>4998</th>\n",
              "      <td>sms</td>\n",
              "      <td>0</td>\n",
              "      <td>2012-05-08 00:01:53.0</td>\n",
              "      <td>0</td>\n",
              "      <td>05e3c3d41628a9f</td>\n",
              "      <td>7185a95077eae9e</td>\n",
              "      <td>19e2e</td>\n",
              "      <td>19e2e</td>\n",
              "      <td>fe70e431df</td>\n",
              "      <td>c7ea989264</td>\n",
              "    </tr>\n",
              "    <tr>\n",
              "      <th>4999</th>\n",
              "      <td>data</td>\n",
              "      <td>0</td>\n",
              "      <td>2012-05-08 00:01:53.0</td>\n",
              "      <td>_</td>\n",
              "      <td>86a4dbf018f6f24</td>\n",
              "      <td>5a4dc9e82deb309</td>\n",
              "      <td>19e2e</td>\n",
              "      <td>OTHER</td>\n",
              "      <td>ffa6759bb2</td>\n",
              "      <td>0</td>\n",
              "    </tr>\n",
              "    <tr>\n",
              "      <th>5000</th>\n",
              "      <td>Voice</td>\n",
              "      <td>0</td>\n",
              "      <td>2012-05-08 00:01:53.0</td>\n",
              "      <td>0</td>\n",
              "      <td>a03c9837c62a5b9</td>\n",
              "      <td>de590e98879fa37</td>\n",
              "      <td>19e2e</td>\n",
              "      <td>19e2e</td>\n",
              "      <td>8630058aca</td>\n",
              "      <td>b47a998a3e</td>\n",
              "    </tr>\n",
              "  </tbody>\n",
              "</table>\n",
              "</div>"
            ],
            "text/plain": [
              "     PRODUCT  VALUE              DATE_TIME  ... COUNTRY_B     CELL_ID     SITE_ID\n",
              "4996     sms      0  2012-05-08 00:01:53.0  ...     19e2e  896459aace  b7d00e59e4\n",
              "4997     sms     25  2012-05-08 00:01:53.0  ...     19e2e  7e90b35166  211015b14d\n",
              "4998     sms      0  2012-05-08 00:01:53.0  ...     19e2e  fe70e431df  c7ea989264\n",
              "4999    data      0  2012-05-08 00:01:53.0  ...     OTHER  ffa6759bb2           0\n",
              "5000   Voice      0  2012-05-08 00:01:53.0  ...     19e2e  8630058aca  b47a998a3e\n",
              "\n",
              "[5 rows x 10 columns]"
            ]
          },
          "execution_count": 75,
          "metadata": {},
          "output_type": "execute_result"
        }
      ]
    },
    {
      "cell_type": "code",
      "metadata": {
        "colab": {
          "base_uri": "https://localhost:8080/"
        },
        "id": "qAlN_Xe8dhbf",
        "outputId": "ae2bbdea-7e87-4c41-8052-7be60deb58bf"
      },
      "source": [
        "df3['SITE_ID'] = df3['SITE_ID'].fillna(0)\n",
        "df3.tail()"
      ],
      "execution_count": null,
      "outputs": [
        {
          "data": {
            "text/html": [
              "<div>\n",
              "<style scoped>\n",
              "    .dataframe tbody tr th:only-of-type {\n",
              "        vertical-align: middle;\n",
              "    }\n",
              "\n",
              "    .dataframe tbody tr th {\n",
              "        vertical-align: top;\n",
              "    }\n",
              "\n",
              "    .dataframe thead th {\n",
              "        text-align: right;\n",
              "    }\n",
              "</style>\n",
              "<table border=\"1\" class=\"dataframe\">\n",
              "  <thead>\n",
              "    <tr style=\"text-align: right;\">\n",
              "      <th></th>\n",
              "      <th>PRODUCT</th>\n",
              "      <th>VALUE</th>\n",
              "      <th>DATE_TIME</th>\n",
              "      <th>CELL_ON_SITE</th>\n",
              "      <th>DW_A_NUMBER_INT</th>\n",
              "      <th>DW_B_NUMBER_INT</th>\n",
              "      <th>COUNTRY_A</th>\n",
              "      <th>COUNTRY_B</th>\n",
              "      <th>CELL_ID</th>\n",
              "      <th>SITE_ID</th>\n",
              "    </tr>\n",
              "  </thead>\n",
              "  <tbody>\n",
              "    <tr>\n",
              "      <th>4996</th>\n",
              "      <td>Voice</td>\n",
              "      <td>0</td>\n",
              "      <td>2012-05-09 00:01:43.0</td>\n",
              "      <td>3</td>\n",
              "      <td>467333ade2b4b9c</td>\n",
              "      <td>0ab2acd804d01fe</td>\n",
              "      <td>19e2e</td>\n",
              "      <td>19e2e</td>\n",
              "      <td>2aa04dcab7</td>\n",
              "      <td>f7d63a29e5</td>\n",
              "    </tr>\n",
              "    <tr>\n",
              "      <th>4997</th>\n",
              "      <td>Voice</td>\n",
              "      <td>62</td>\n",
              "      <td>2012-05-09 00:01:43.0</td>\n",
              "      <td>1</td>\n",
              "      <td>e077a6b74c5053c</td>\n",
              "      <td>4c8098eb6ea1a41</td>\n",
              "      <td>19e2e</td>\n",
              "      <td>19e2e</td>\n",
              "      <td>7f1f2f889f</td>\n",
              "      <td>b4ddb9e93c</td>\n",
              "    </tr>\n",
              "    <tr>\n",
              "      <th>4998</th>\n",
              "      <td>Voice</td>\n",
              "      <td>32</td>\n",
              "      <td>2012-05-09 00:01:43.0</td>\n",
              "      <td>1</td>\n",
              "      <td>77f53c39d27c050</td>\n",
              "      <td>9d064f013e2cab2</td>\n",
              "      <td>19e2e</td>\n",
              "      <td>19e2e</td>\n",
              "      <td>a4731e780e</td>\n",
              "      <td>d68260ef50</td>\n",
              "    </tr>\n",
              "    <tr>\n",
              "      <th>4999</th>\n",
              "      <td>Voice</td>\n",
              "      <td>30</td>\n",
              "      <td>2012-05-09 00:01:43.0</td>\n",
              "      <td>2</td>\n",
              "      <td>672ce74c418aa7a</td>\n",
              "      <td>f9ff5af59cf0d68</td>\n",
              "      <td>19e2e</td>\n",
              "      <td>19e2e</td>\n",
              "      <td>98ed726da2</td>\n",
              "      <td>b4130b54ab</td>\n",
              "    </tr>\n",
              "    <tr>\n",
              "      <th>5000</th>\n",
              "      <td>Voice</td>\n",
              "      <td>60</td>\n",
              "      <td>2012-05-09 00:01:43.0</td>\n",
              "      <td>2</td>\n",
              "      <td>6edeb4c55714650</td>\n",
              "      <td>7e60838216482a7</td>\n",
              "      <td>19e2e</td>\n",
              "      <td>19e2e</td>\n",
              "      <td>1c11a2fcbb</td>\n",
              "      <td>6d70dae094</td>\n",
              "    </tr>\n",
              "  </tbody>\n",
              "</table>\n",
              "</div>"
            ],
            "text/plain": [
              "     PRODUCT  VALUE              DATE_TIME  ... COUNTRY_B     CELL_ID     SITE_ID\n",
              "4996   Voice      0  2012-05-09 00:01:43.0  ...     19e2e  2aa04dcab7  f7d63a29e5\n",
              "4997   Voice     62  2012-05-09 00:01:43.0  ...     19e2e  7f1f2f889f  b4ddb9e93c\n",
              "4998   Voice     32  2012-05-09 00:01:43.0  ...     19e2e  a4731e780e  d68260ef50\n",
              "4999   Voice     30  2012-05-09 00:01:43.0  ...     19e2e  98ed726da2  b4130b54ab\n",
              "5000   Voice     60  2012-05-09 00:01:43.0  ...     19e2e  1c11a2fcbb  6d70dae094\n",
              "\n",
              "[5 rows x 10 columns]"
            ]
          },
          "execution_count": 76,
          "metadata": {},
          "output_type": "execute_result"
        }
      ]
    },
    {
      "cell_type": "code",
      "metadata": {
        "colab": {
          "base_uri": "https://localhost:8080/"
        },
        "id": "3eSBvf3kCgqK",
        "outputId": "e5e22e06-99b0-438e-fc0d-dc70058f5a6a"
      },
      "source": [
        "cell_df['AREA'] = cell_df['AREA'].fillna(0)\n",
        "cell_df['STATUS'] = cell_df['STATUS'].fillna(0)\n",
        "cell_df['ZONENAME'] = cell_df['ZONENAME'].fillna(0)\n",
        "cell_df.tail()"
      ],
      "execution_count": null,
      "outputs": [
        {
          "data": {
            "text/html": [
              "<div>\n",
              "<style scoped>\n",
              "    .dataframe tbody tr th:only-of-type {\n",
              "        vertical-align: middle;\n",
              "    }\n",
              "\n",
              "    .dataframe tbody tr th {\n",
              "        vertical-align: top;\n",
              "    }\n",
              "\n",
              "    .dataframe thead th {\n",
              "        text-align: right;\n",
              "    }\n",
              "</style>\n",
              "<table border=\"1\" class=\"dataframe\">\n",
              "  <thead>\n",
              "    <tr style=\"text-align: right;\">\n",
              "      <th></th>\n",
              "      <th>VILLES</th>\n",
              "      <th>STATUS</th>\n",
              "      <th>LOCALISATION</th>\n",
              "      <th>DECOUPZONE</th>\n",
              "      <th>ZONENAME</th>\n",
              "      <th>LONGITUDE</th>\n",
              "      <th>LATITUDE</th>\n",
              "      <th>REGION</th>\n",
              "      <th>AREA</th>\n",
              "      <th>CELL_ID</th>\n",
              "      <th>SITE_CODE</th>\n",
              "    </tr>\n",
              "  </thead>\n",
              "  <tbody>\n",
              "    <tr>\n",
              "      <th>3969</th>\n",
              "      <td>ZUENOULA</td>\n",
              "      <td>In Service</td>\n",
              "      <td>INTERIEUR</td>\n",
              "      <td>Grand-NORD</td>\n",
              "      <td>ZONE A - Grand-NORD</td>\n",
              "      <td>-6.039694</td>\n",
              "      <td>7.428611</td>\n",
              "      <td>MARAHOUE</td>\n",
              "      <td>CENTRE NORTH</td>\n",
              "      <td>1cfc2d7ab1</td>\n",
              "      <td>f91ed8d2e9</td>\n",
              "    </tr>\n",
              "    <tr>\n",
              "      <th>3970</th>\n",
              "      <td>ZUENOULA</td>\n",
              "      <td>In Service</td>\n",
              "      <td>INTERIEUR</td>\n",
              "      <td>Grand-NORD</td>\n",
              "      <td>ZONE A - Grand-NORD</td>\n",
              "      <td>-6.039694</td>\n",
              "      <td>7.428611</td>\n",
              "      <td>MARAHOUE</td>\n",
              "      <td>CENTRE NORTH</td>\n",
              "      <td>3ae1708153</td>\n",
              "      <td>f91ed8d2e9</td>\n",
              "    </tr>\n",
              "    <tr>\n",
              "      <th>3971</th>\n",
              "      <td>ZUENOULA</td>\n",
              "      <td>In Service</td>\n",
              "      <td>INTERIEUR</td>\n",
              "      <td>Grand-NORD</td>\n",
              "      <td>ZONE A - Grand-NORD</td>\n",
              "      <td>-6.065450</td>\n",
              "      <td>7.444592</td>\n",
              "      <td>MARAHOUE</td>\n",
              "      <td>CENTRE NORTH</td>\n",
              "      <td>cb71f8a29c</td>\n",
              "      <td>61bee9c70c</td>\n",
              "    </tr>\n",
              "    <tr>\n",
              "      <th>3972</th>\n",
              "      <td>ZUENOULA</td>\n",
              "      <td>In Service</td>\n",
              "      <td>INTERIEUR</td>\n",
              "      <td>Grand-NORD</td>\n",
              "      <td>ZONE A - Grand-NORD</td>\n",
              "      <td>-6.065450</td>\n",
              "      <td>7.444592</td>\n",
              "      <td>MARAHOUE</td>\n",
              "      <td>CENTRE NORTH</td>\n",
              "      <td>d4a6a0b645</td>\n",
              "      <td>61bee9c70c</td>\n",
              "    </tr>\n",
              "    <tr>\n",
              "      <th>3973</th>\n",
              "      <td>ZUENOULA</td>\n",
              "      <td>In Service</td>\n",
              "      <td>INTERIEUR</td>\n",
              "      <td>Grand-NORD</td>\n",
              "      <td>ZONE A - Grand-NORD</td>\n",
              "      <td>-6.065450</td>\n",
              "      <td>7.444592</td>\n",
              "      <td>MARAHOUE</td>\n",
              "      <td>CENTRE NORTH</td>\n",
              "      <td>f9f3e42589</td>\n",
              "      <td>61bee9c70c</td>\n",
              "    </tr>\n",
              "  </tbody>\n",
              "</table>\n",
              "</div>"
            ],
            "text/plain": [
              "        VILLES      STATUS LOCALISATION  ...          AREA     CELL_ID   SITE_CODE\n",
              "3969  ZUENOULA  In Service    INTERIEUR  ...  CENTRE NORTH  1cfc2d7ab1  f91ed8d2e9\n",
              "3970  ZUENOULA  In Service    INTERIEUR  ...  CENTRE NORTH  3ae1708153  f91ed8d2e9\n",
              "3971  ZUENOULA  In Service    INTERIEUR  ...  CENTRE NORTH  cb71f8a29c  61bee9c70c\n",
              "3972  ZUENOULA  In Service    INTERIEUR  ...  CENTRE NORTH  d4a6a0b645  61bee9c70c\n",
              "3973  ZUENOULA  In Service    INTERIEUR  ...  CENTRE NORTH  f9f3e42589  61bee9c70c\n",
              "\n",
              "[5 rows x 11 columns]"
            ]
          },
          "execution_count": 77,
          "metadata": {},
          "output_type": "execute_result"
        }
      ]
    },
    {
      "cell_type": "code",
      "metadata": {
        "colab": {
          "base_uri": "https://localhost:8080/"
        },
        "id": "uxR1PLOXdryB",
        "outputId": "4e5c64b3-7e79-4046-87e3-aaa2a6643c85"
      },
      "source": [
        "# check for missing values again\n",
        "df1.isna().sum()"
      ],
      "execution_count": null,
      "outputs": [
        {
          "data": {
            "text/plain": [
              "PRODUCT            0\n",
              "VALUE              0\n",
              "DATE_TIME          0\n",
              "CELL_ON_SITE       0\n",
              "DW_A_NUMBER_INT    0\n",
              "DW_B_NUMBER_INT    0\n",
              "COUNTRY_A          0\n",
              "COUNTRY_B          0\n",
              "CELL_ID            0\n",
              "SITE_ID            0\n",
              "dtype: int64"
            ]
          },
          "execution_count": 78,
          "metadata": {},
          "output_type": "execute_result"
        }
      ]
    },
    {
      "cell_type": "code",
      "metadata": {
        "colab": {
          "base_uri": "https://localhost:8080/"
        },
        "id": "LYz1G53Id2_R",
        "outputId": "f30bb4a9-0d67-4e5c-f70b-c5fe32dd7a2b"
      },
      "source": [
        "df2.isna().sum()"
      ],
      "execution_count": null,
      "outputs": [
        {
          "data": {
            "text/plain": [
              "PRODUCT            0\n",
              "VALUE              0\n",
              "DATE_TIME          0\n",
              "CELL_ON_SITE       0\n",
              "DW_A_NUMBER_INT    0\n",
              "DW_B_NUMBER_INT    0\n",
              "COUNTRY_A          0\n",
              "COUNTRY_B          0\n",
              "CELL_ID            0\n",
              "SITE_ID            0\n",
              "dtype: int64"
            ]
          },
          "execution_count": 79,
          "metadata": {},
          "output_type": "execute_result"
        }
      ]
    },
    {
      "cell_type": "code",
      "metadata": {
        "colab": {
          "base_uri": "https://localhost:8080/"
        },
        "id": "xznAet0weUl5",
        "outputId": "c37b5000-1166-48b5-b702-604976158f61"
      },
      "source": [
        "df3.isna().sum()"
      ],
      "execution_count": null,
      "outputs": [
        {
          "data": {
            "text/plain": [
              "PRODUCT            0\n",
              "VALUE              0\n",
              "DATE_TIME          0\n",
              "CELL_ON_SITE       0\n",
              "DW_A_NUMBER_INT    0\n",
              "DW_B_NUMBER_INT    0\n",
              "COUNTRY_A          0\n",
              "COUNTRY_B          0\n",
              "CELL_ID            0\n",
              "SITE_ID            0\n",
              "dtype: int64"
            ]
          },
          "execution_count": 80,
          "metadata": {},
          "output_type": "execute_result"
        }
      ]
    },
    {
      "cell_type": "code",
      "metadata": {
        "colab": {
          "base_uri": "https://localhost:8080/"
        },
        "id": "dtQGJbBADCvB",
        "outputId": "8cf33350-ca4a-4773-eed4-070ca8f33e4f"
      },
      "source": [
        "cell_df.isna().sum()"
      ],
      "execution_count": null,
      "outputs": [
        {
          "data": {
            "text/plain": [
              "VILLES          0\n",
              "STATUS          0\n",
              "LOCALISATION    0\n",
              "DECOUPZONE      0\n",
              "ZONENAME        0\n",
              "LONGITUDE       0\n",
              "LATITUDE        0\n",
              "REGION          0\n",
              "AREA            0\n",
              "CELL_ID         0\n",
              "SITE_CODE       0\n",
              "dtype: int64"
            ]
          },
          "execution_count": 81,
          "metadata": {},
          "output_type": "execute_result"
        }
      ]
    },
    {
      "cell_type": "markdown",
      "metadata": {
        "id": "ErhGO2Nphsh-"
      },
      "source": [
        "DATA PREPARATON"
      ]
    },
    {
      "cell_type": "code",
      "metadata": {
        "colab": {
          "base_uri": "https://localhost:8080/"
        },
        "id": "wZaImL2GMQFQ",
        "outputId": "61244e98-e387-4417-bbc4-5f4b4bf3a4fb"
      },
      "source": [
        "# merging all the DataFrames\n",
        "df_final = pd.concat([df1,df2,df3],ignore_index=1)\n",
        "df_final.head()"
      ],
      "execution_count": null,
      "outputs": [
        {
          "data": {
            "text/html": [
              "<div>\n",
              "<style scoped>\n",
              "    .dataframe tbody tr th:only-of-type {\n",
              "        vertical-align: middle;\n",
              "    }\n",
              "\n",
              "    .dataframe tbody tr th {\n",
              "        vertical-align: top;\n",
              "    }\n",
              "\n",
              "    .dataframe thead th {\n",
              "        text-align: right;\n",
              "    }\n",
              "</style>\n",
              "<table border=\"1\" class=\"dataframe\">\n",
              "  <thead>\n",
              "    <tr style=\"text-align: right;\">\n",
              "      <th></th>\n",
              "      <th>PRODUCT</th>\n",
              "      <th>VALUE</th>\n",
              "      <th>DATE_TIME</th>\n",
              "      <th>CELL_ON_SITE</th>\n",
              "      <th>DW_A_NUMBER_INT</th>\n",
              "      <th>DW_B_NUMBER_INT</th>\n",
              "      <th>COUNTRY_A</th>\n",
              "      <th>COUNTRY_B</th>\n",
              "      <th>CELL_ID</th>\n",
              "      <th>SITE_ID</th>\n",
              "    </tr>\n",
              "  </thead>\n",
              "  <tbody>\n",
              "    <tr>\n",
              "      <th>0</th>\n",
              "      <td>Voice</td>\n",
              "      <td>0</td>\n",
              "      <td>2012-05-06 23:04:37.0</td>\n",
              "      <td>1</td>\n",
              "      <td>49fae048b547780</td>\n",
              "      <td>1a49f8b0ded9de6</td>\n",
              "      <td>19e2e</td>\n",
              "      <td>19e2e</td>\n",
              "      <td>/TJNe+Mmtu</td>\n",
              "      <td>/TJNe+Mmtu</td>\n",
              "    </tr>\n",
              "    <tr>\n",
              "      <th>1</th>\n",
              "      <td>sms</td>\n",
              "      <td>0</td>\n",
              "      <td>2012-05-06 23:05:25.0</td>\n",
              "      <td>0</td>\n",
              "      <td>7a54a6eaee19e65</td>\n",
              "      <td>93343ba6e41af95</td>\n",
              "      <td>19e2e</td>\n",
              "      <td>19e2e</td>\n",
              "      <td>/+cKZKIp41</td>\n",
              "      <td>/+cKZKIp41</td>\n",
              "    </tr>\n",
              "    <tr>\n",
              "      <th>2</th>\n",
              "      <td>sms</td>\n",
              "      <td>25</td>\n",
              "      <td>2012-05-06 23:05:41.0</td>\n",
              "      <td>0</td>\n",
              "      <td>6008887b0207d82</td>\n",
              "      <td>7aacc9709ce0a20</td>\n",
              "      <td>19e2e</td>\n",
              "      <td>19e2e</td>\n",
              "      <td>/u0FSD+ahi</td>\n",
              "      <td>/u0FSD+ahi</td>\n",
              "    </tr>\n",
              "    <tr>\n",
              "      <th>3</th>\n",
              "      <td>Voice</td>\n",
              "      <td>56</td>\n",
              "      <td>2012-05-06 23:05:42.0</td>\n",
              "      <td>1</td>\n",
              "      <td>7370032e20f4e96</td>\n",
              "      <td>6af4a60e74c91d3</td>\n",
              "      <td>19e2e</td>\n",
              "      <td>19e2e</td>\n",
              "      <td>+cNeJzsTp3</td>\n",
              "      <td>+cNeJzsTp3</td>\n",
              "    </tr>\n",
              "    <tr>\n",
              "      <th>4</th>\n",
              "      <td>Voice</td>\n",
              "      <td>14</td>\n",
              "      <td>2012-05-06 23:06:29.0</td>\n",
              "      <td>1</td>\n",
              "      <td>966ba4656e38e62</td>\n",
              "      <td>02aa736ee555d5c</td>\n",
              "      <td>19e2e</td>\n",
              "      <td>19e2e</td>\n",
              "      <td>051KhYDCpv</td>\n",
              "      <td>051KhYDCpv</td>\n",
              "    </tr>\n",
              "  </tbody>\n",
              "</table>\n",
              "</div>"
            ],
            "text/plain": [
              "  PRODUCT  VALUE              DATE_TIME  ... COUNTRY_B     CELL_ID     SITE_ID\n",
              "0   Voice      0  2012-05-06 23:04:37.0  ...     19e2e  /TJNe+Mmtu  /TJNe+Mmtu\n",
              "1     sms      0  2012-05-06 23:05:25.0  ...     19e2e  /+cKZKIp41  /+cKZKIp41\n",
              "2     sms     25  2012-05-06 23:05:41.0  ...     19e2e  /u0FSD+ahi  /u0FSD+ahi\n",
              "3   Voice     56  2012-05-06 23:05:42.0  ...     19e2e  +cNeJzsTp3  +cNeJzsTp3\n",
              "4   Voice     14  2012-05-06 23:06:29.0  ...     19e2e  051KhYDCpv  051KhYDCpv\n",
              "\n",
              "[5 rows x 10 columns]"
            ]
          },
          "execution_count": 82,
          "metadata": {},
          "output_type": "execute_result"
        }
      ]
    },
    {
      "cell_type": "code",
      "metadata": {
        "colab": {
          "base_uri": "https://localhost:8080/"
        },
        "id": "EuKBeezfd0BA",
        "outputId": "e8e8b74c-1eef-454e-ac90-728b01c89762"
      },
      "source": [
        "df_merged = pd.merge(left=df_final, right=cell_df, how='left', left_on='CELL_ID', right_on='CELL_ID')\n",
        "df_merged.head()"
      ],
      "execution_count": null,
      "outputs": [
        {
          "data": {
            "text/html": [
              "<div>\n",
              "<style scoped>\n",
              "    .dataframe tbody tr th:only-of-type {\n",
              "        vertical-align: middle;\n",
              "    }\n",
              "\n",
              "    .dataframe tbody tr th {\n",
              "        vertical-align: top;\n",
              "    }\n",
              "\n",
              "    .dataframe thead th {\n",
              "        text-align: right;\n",
              "    }\n",
              "</style>\n",
              "<table border=\"1\" class=\"dataframe\">\n",
              "  <thead>\n",
              "    <tr style=\"text-align: right;\">\n",
              "      <th></th>\n",
              "      <th>PRODUCT</th>\n",
              "      <th>VALUE</th>\n",
              "      <th>DATE_TIME</th>\n",
              "      <th>CELL_ON_SITE</th>\n",
              "      <th>DW_A_NUMBER_INT</th>\n",
              "      <th>DW_B_NUMBER_INT</th>\n",
              "      <th>COUNTRY_A</th>\n",
              "      <th>COUNTRY_B</th>\n",
              "      <th>CELL_ID</th>\n",
              "      <th>SITE_ID</th>\n",
              "      <th>VILLES</th>\n",
              "      <th>STATUS</th>\n",
              "      <th>LOCALISATION</th>\n",
              "      <th>DECOUPZONE</th>\n",
              "      <th>ZONENAME</th>\n",
              "      <th>LONGITUDE</th>\n",
              "      <th>LATITUDE</th>\n",
              "      <th>REGION</th>\n",
              "      <th>AREA</th>\n",
              "      <th>SITE_CODE</th>\n",
              "    </tr>\n",
              "  </thead>\n",
              "  <tbody>\n",
              "    <tr>\n",
              "      <th>0</th>\n",
              "      <td>Voice</td>\n",
              "      <td>0</td>\n",
              "      <td>2012-05-06 23:04:37.0</td>\n",
              "      <td>1</td>\n",
              "      <td>49fae048b547780</td>\n",
              "      <td>1a49f8b0ded9de6</td>\n",
              "      <td>19e2e</td>\n",
              "      <td>19e2e</td>\n",
              "      <td>/TJNe+Mmtu</td>\n",
              "      <td>/TJNe+Mmtu</td>\n",
              "      <td>NaN</td>\n",
              "      <td>NaN</td>\n",
              "      <td>NaN</td>\n",
              "      <td>NaN</td>\n",
              "      <td>NaN</td>\n",
              "      <td>NaN</td>\n",
              "      <td>NaN</td>\n",
              "      <td>NaN</td>\n",
              "      <td>NaN</td>\n",
              "      <td>NaN</td>\n",
              "    </tr>\n",
              "    <tr>\n",
              "      <th>1</th>\n",
              "      <td>sms</td>\n",
              "      <td>0</td>\n",
              "      <td>2012-05-06 23:05:25.0</td>\n",
              "      <td>0</td>\n",
              "      <td>7a54a6eaee19e65</td>\n",
              "      <td>93343ba6e41af95</td>\n",
              "      <td>19e2e</td>\n",
              "      <td>19e2e</td>\n",
              "      <td>/+cKZKIp41</td>\n",
              "      <td>/+cKZKIp41</td>\n",
              "      <td>NaN</td>\n",
              "      <td>NaN</td>\n",
              "      <td>NaN</td>\n",
              "      <td>NaN</td>\n",
              "      <td>NaN</td>\n",
              "      <td>NaN</td>\n",
              "      <td>NaN</td>\n",
              "      <td>NaN</td>\n",
              "      <td>NaN</td>\n",
              "      <td>NaN</td>\n",
              "    </tr>\n",
              "    <tr>\n",
              "      <th>2</th>\n",
              "      <td>sms</td>\n",
              "      <td>25</td>\n",
              "      <td>2012-05-06 23:05:41.0</td>\n",
              "      <td>0</td>\n",
              "      <td>6008887b0207d82</td>\n",
              "      <td>7aacc9709ce0a20</td>\n",
              "      <td>19e2e</td>\n",
              "      <td>19e2e</td>\n",
              "      <td>/u0FSD+ahi</td>\n",
              "      <td>/u0FSD+ahi</td>\n",
              "      <td>NaN</td>\n",
              "      <td>NaN</td>\n",
              "      <td>NaN</td>\n",
              "      <td>NaN</td>\n",
              "      <td>NaN</td>\n",
              "      <td>NaN</td>\n",
              "      <td>NaN</td>\n",
              "      <td>NaN</td>\n",
              "      <td>NaN</td>\n",
              "      <td>NaN</td>\n",
              "    </tr>\n",
              "    <tr>\n",
              "      <th>3</th>\n",
              "      <td>Voice</td>\n",
              "      <td>56</td>\n",
              "      <td>2012-05-06 23:05:42.0</td>\n",
              "      <td>1</td>\n",
              "      <td>7370032e20f4e96</td>\n",
              "      <td>6af4a60e74c91d3</td>\n",
              "      <td>19e2e</td>\n",
              "      <td>19e2e</td>\n",
              "      <td>+cNeJzsTp3</td>\n",
              "      <td>+cNeJzsTp3</td>\n",
              "      <td>NaN</td>\n",
              "      <td>NaN</td>\n",
              "      <td>NaN</td>\n",
              "      <td>NaN</td>\n",
              "      <td>NaN</td>\n",
              "      <td>NaN</td>\n",
              "      <td>NaN</td>\n",
              "      <td>NaN</td>\n",
              "      <td>NaN</td>\n",
              "      <td>NaN</td>\n",
              "    </tr>\n",
              "    <tr>\n",
              "      <th>4</th>\n",
              "      <td>Voice</td>\n",
              "      <td>14</td>\n",
              "      <td>2012-05-06 23:06:29.0</td>\n",
              "      <td>1</td>\n",
              "      <td>966ba4656e38e62</td>\n",
              "      <td>02aa736ee555d5c</td>\n",
              "      <td>19e2e</td>\n",
              "      <td>19e2e</td>\n",
              "      <td>051KhYDCpv</td>\n",
              "      <td>051KhYDCpv</td>\n",
              "      <td>NaN</td>\n",
              "      <td>NaN</td>\n",
              "      <td>NaN</td>\n",
              "      <td>NaN</td>\n",
              "      <td>NaN</td>\n",
              "      <td>NaN</td>\n",
              "      <td>NaN</td>\n",
              "      <td>NaN</td>\n",
              "      <td>NaN</td>\n",
              "      <td>NaN</td>\n",
              "    </tr>\n",
              "  </tbody>\n",
              "</table>\n",
              "</div>"
            ],
            "text/plain": [
              "  PRODUCT  VALUE              DATE_TIME  ... REGION AREA SITE_CODE\n",
              "0   Voice      0  2012-05-06 23:04:37.0  ...    NaN  NaN       NaN\n",
              "1     sms      0  2012-05-06 23:05:25.0  ...    NaN  NaN       NaN\n",
              "2     sms     25  2012-05-06 23:05:41.0  ...    NaN  NaN       NaN\n",
              "3   Voice     56  2012-05-06 23:05:42.0  ...    NaN  NaN       NaN\n",
              "4   Voice     14  2012-05-06 23:06:29.0  ...    NaN  NaN       NaN\n",
              "\n",
              "[5 rows x 20 columns]"
            ]
          },
          "execution_count": 83,
          "metadata": {},
          "output_type": "execute_result"
        }
      ]
    },
    {
      "cell_type": "code",
      "metadata": {
        "colab": {
          "base_uri": "https://localhost:8080/"
        },
        "id": "ZQ4nI4A0MQB4",
        "outputId": "bb50fdfa-4581-4270-e2e8-4eec215a12c4"
      },
      "source": [
        "df_final.dtypes"
      ],
      "execution_count": null,
      "outputs": [
        {
          "data": {
            "text/plain": [
              "PRODUCT            object\n",
              "VALUE               int64\n",
              "DATE_TIME          object\n",
              "CELL_ON_SITE       object\n",
              "DW_A_NUMBER_INT    object\n",
              "DW_B_NUMBER_INT    object\n",
              "COUNTRY_A          object\n",
              "COUNTRY_B          object\n",
              "CELL_ID            object\n",
              "SITE_ID            object\n",
              "dtype: object"
            ]
          },
          "execution_count": 84,
          "metadata": {},
          "output_type": "execute_result"
        }
      ]
    },
    {
      "cell_type": "code",
      "metadata": {
        "colab": {
          "base_uri": "https://localhost:8080/"
        },
        "id": "F6A4drm2P2is",
        "outputId": "5d361f8b-5d50-4c59-d65c-2b939e2d8739"
      },
      "source": [
        "# detect outliers\n",
        "import numpy as np\n",
        "%matplotlib inline\n",
        "import seaborn as sbn\n",
        "sbn.boxplot(df_final['VALUE'])"
      ],
      "execution_count": null,
      "outputs": [
        {
          "name": "stderr",
          "output_type": "stream",
          "text": [
            "/usr/local/lib/python3.7/dist-packages/seaborn/_decorators.py:43: FutureWarning: Pass the following variable as a keyword arg: x. From version 0.12, the only valid positional argument will be `data`, and passing other arguments without an explicit keyword will result in an error or misinterpretation.\n",
            "  FutureWarning\n"
          ]
        },
        {
          "data": {
            "text/plain": [
              "<matplotlib.axes._subplots.AxesSubplot at 0x7f09fb2d2610>"
            ]
          },
          "execution_count": 85,
          "metadata": {},
          "output_type": "execute_result"
        },
        {
          "data": {
            "image/png": "[encoded data removed]",
            "text/plain": [
              "<Figure size 432x288 with 1 Axes>"
            ]
          },
          "metadata": {},
          "output_type": "display_data"
        }
      ]
    },
    {
      "cell_type": "code",
      "metadata": {
        "colab": {
          "base_uri": "https://localhost:8080/"
        },
        "id": "qBCQ6bUFarPh",
        "outputId": "7b3702e5-88bf-4283-c4fc-00e449f5340e"
      },
      "source": [
        "# printing outliers\n",
        "Q1 = df_final['VALUE'].quantile(0.25)\n",
        "Q3 = df_final['VALUE'].quantile(0.75)\n",
        "IQR = Q3 -Q1\n",
        "print(IQR)"
      ],
      "execution_count": null,
      "outputs": [
        {
          "name": "stdout",
          "output_type": "stream",
          "text": [
            "25.0\n"
          ]
        }
      ]
    },
    {
      "cell_type": "code",
      "metadata": {
        "colab": {
          "base_uri": "https://localhost:8080/"
        },
        "id": "40uq-hBVbx23",
        "outputId": "8f92b30a-4af0-40d0-c47f-16f3591df669"
      },
      "source": [
        "# find upper and lower fence\n",
        "lower_fence = Q1 - (1.5*IQR)\n",
        "upper_fence = Q1 + (1.5*IQR)\n",
        "\n",
        "print(lower_fence)\n",
        "print(upper_fence)"
      ],
      "execution_count": null,
      "outputs": [
        {
          "name": "stdout",
          "output_type": "stream",
          "text": [
            "-37.5\n",
            "37.5\n"
          ]
        }
      ]
    },
    {
      "cell_type": "code",
      "metadata": {
        "colab": {
          "base_uri": "https://localhost:8080/"
        },
        "id": "NYnIYiQMco_W",
        "outputId": "7b85f0d6-bc2d-4976-ddce-8af9e0d3270a"
      },
      "source": [
        "# filter out outlier data and print potential data\n",
        "df_final[~((df_final['VALUE']< lower_fence)|(df_final['VALUE'] > upper_fence))]"
      ],
      "execution_count": null,
      "outputs": [
        {
          "data": {
            "text/html": [
              "<div>\n",
              "<style scoped>\n",
              "    .dataframe tbody tr th:only-of-type {\n",
              "        vertical-align: middle;\n",
              "    }\n",
              "\n",
              "    .dataframe tbody tr th {\n",
              "        vertical-align: top;\n",
              "    }\n",
              "\n",
              "    .dataframe thead th {\n",
              "        text-align: right;\n",
              "    }\n",
              "</style>\n",
              "<table border=\"1\" class=\"dataframe\">\n",
              "  <thead>\n",
              "    <tr style=\"text-align: right;\">\n",
              "      <th></th>\n",
              "      <th>PRODUCT</th>\n",
              "      <th>VALUE</th>\n",
              "      <th>DATE_TIME</th>\n",
              "      <th>CELL_ON_SITE</th>\n",
              "      <th>DW_A_NUMBER_INT</th>\n",
              "      <th>DW_B_NUMBER_INT</th>\n",
              "      <th>COUNTRY_A</th>\n",
              "      <th>COUNTRY_B</th>\n",
              "      <th>CELL_ID</th>\n",
              "      <th>SITE_ID</th>\n",
              "    </tr>\n",
              "  </thead>\n",
              "  <tbody>\n",
              "    <tr>\n",
              "      <th>0</th>\n",
              "      <td>Voice</td>\n",
              "      <td>0</td>\n",
              "      <td>2012-05-06 23:04:37.0</td>\n",
              "      <td>1</td>\n",
              "      <td>49fae048b547780</td>\n",
              "      <td>1a49f8b0ded9de6</td>\n",
              "      <td>19e2e</td>\n",
              "      <td>19e2e</td>\n",
              "      <td>/TJNe+Mmtu</td>\n",
              "      <td>/TJNe+Mmtu</td>\n",
              "    </tr>\n",
              "    <tr>\n",
              "      <th>1</th>\n",
              "      <td>sms</td>\n",
              "      <td>0</td>\n",
              "      <td>2012-05-06 23:05:25.0</td>\n",
              "      <td>0</td>\n",
              "      <td>7a54a6eaee19e65</td>\n",
              "      <td>93343ba6e41af95</td>\n",
              "      <td>19e2e</td>\n",
              "      <td>19e2e</td>\n",
              "      <td>/+cKZKIp41</td>\n",
              "      <td>/+cKZKIp41</td>\n",
              "    </tr>\n",
              "    <tr>\n",
              "      <th>2</th>\n",
              "      <td>sms</td>\n",
              "      <td>25</td>\n",
              "      <td>2012-05-06 23:05:41.0</td>\n",
              "      <td>0</td>\n",
              "      <td>6008887b0207d82</td>\n",
              "      <td>7aacc9709ce0a20</td>\n",
              "      <td>19e2e</td>\n",
              "      <td>19e2e</td>\n",
              "      <td>/u0FSD+ahi</td>\n",
              "      <td>/u0FSD+ahi</td>\n",
              "    </tr>\n",
              "    <tr>\n",
              "      <th>4</th>\n",
              "      <td>Voice</td>\n",
              "      <td>14</td>\n",
              "      <td>2012-05-06 23:06:29.0</td>\n",
              "      <td>1</td>\n",
              "      <td>966ba4656e38e62</td>\n",
              "      <td>02aa736ee555d5c</td>\n",
              "      <td>19e2e</td>\n",
              "      <td>19e2e</td>\n",
              "      <td>051KhYDCpv</td>\n",
              "      <td>051KhYDCpv</td>\n",
              "    </tr>\n",
              "    <tr>\n",
              "      <th>5</th>\n",
              "      <td>data</td>\n",
              "      <td>0</td>\n",
              "      <td>2012-05-06 23:07:26.0</td>\n",
              "      <td>_</td>\n",
              "      <td>f71825ca6e623f9</td>\n",
              "      <td>5a4dc9e82deb309</td>\n",
              "      <td>19e2e</td>\n",
              "      <td>OTHER</td>\n",
              "      <td>/lrUXVGVcN</td>\n",
              "      <td>/lrUXVGVcN</td>\n",
              "    </tr>\n",
              "    <tr>\n",
              "      <th>...</th>\n",
              "      <td>...</td>\n",
              "      <td>...</td>\n",
              "      <td>...</td>\n",
              "      <td>...</td>\n",
              "      <td>...</td>\n",
              "      <td>...</td>\n",
              "      <td>...</td>\n",
              "      <td>...</td>\n",
              "      <td>...</td>\n",
              "      <td>...</td>\n",
              "    </tr>\n",
              "    <tr>\n",
              "      <th>14996</th>\n",
              "      <td>Voice</td>\n",
              "      <td>17</td>\n",
              "      <td>2012-05-09 00:01:43.0</td>\n",
              "      <td>4</td>\n",
              "      <td>630b59db6189ca6</td>\n",
              "      <td>d93d583ef689511</td>\n",
              "      <td>19e2e</td>\n",
              "      <td>19e2e</td>\n",
              "      <td>1ba612f62c</td>\n",
              "      <td>25250f86a1</td>\n",
              "    </tr>\n",
              "    <tr>\n",
              "      <th>14997</th>\n",
              "      <td>Voice</td>\n",
              "      <td>10</td>\n",
              "      <td>2012-05-09 00:01:43.0</td>\n",
              "      <td>0</td>\n",
              "      <td>2f834987f0c1825</td>\n",
              "      <td>accc8e5c1164343</td>\n",
              "      <td>19e2e</td>\n",
              "      <td>OTHER</td>\n",
              "      <td>6467daa1db</td>\n",
              "      <td>8a96bae9c1</td>\n",
              "    </tr>\n",
              "    <tr>\n",
              "      <th>14998</th>\n",
              "      <td>Voice</td>\n",
              "      <td>0</td>\n",
              "      <td>2012-05-09 00:01:43.0</td>\n",
              "      <td>3</td>\n",
              "      <td>467333ade2b4b9c</td>\n",
              "      <td>0ab2acd804d01fe</td>\n",
              "      <td>19e2e</td>\n",
              "      <td>19e2e</td>\n",
              "      <td>2aa04dcab7</td>\n",
              "      <td>f7d63a29e5</td>\n",
              "    </tr>\n",
              "    <tr>\n",
              "      <th>15000</th>\n",
              "      <td>Voice</td>\n",
              "      <td>32</td>\n",
              "      <td>2012-05-09 00:01:43.0</td>\n",
              "      <td>1</td>\n",
              "      <td>77f53c39d27c050</td>\n",
              "      <td>9d064f013e2cab2</td>\n",
              "      <td>19e2e</td>\n",
              "      <td>19e2e</td>\n",
              "      <td>a4731e780e</td>\n",
              "      <td>d68260ef50</td>\n",
              "    </tr>\n",
              "    <tr>\n",
              "      <th>15001</th>\n",
              "      <td>Voice</td>\n",
              "      <td>30</td>\n",
              "      <td>2012-05-09 00:01:43.0</td>\n",
              "      <td>2</td>\n",
              "      <td>672ce74c418aa7a</td>\n",
              "      <td>f9ff5af59cf0d68</td>\n",
              "      <td>19e2e</td>\n",
              "      <td>19e2e</td>\n",
              "      <td>98ed726da2</td>\n",
              "      <td>b4130b54ab</td>\n",
              "    </tr>\n",
              "  </tbody>\n",
              "</table>\n",
              "<p>12820 rows × 10 columns</p>\n",
              "</div>"
            ],
            "text/plain": [
              "      PRODUCT  VALUE              DATE_TIME  ... COUNTRY_B     CELL_ID     SITE_ID\n",
              "0       Voice      0  2012-05-06 23:04:37.0  ...     19e2e  /TJNe+Mmtu  /TJNe+Mmtu\n",
              "1         sms      0  2012-05-06 23:05:25.0  ...     19e2e  /+cKZKIp41  /+cKZKIp41\n",
              "2         sms     25  2012-05-06 23:05:41.0  ...     19e2e  /u0FSD+ahi  /u0FSD+ahi\n",
              "4       Voice     14  2012-05-06 23:06:29.0  ...     19e2e  051KhYDCpv  051KhYDCpv\n",
              "5        data      0  2012-05-06 23:07:26.0  ...     OTHER  /lrUXVGVcN  /lrUXVGVcN\n",
              "...       ...    ...                    ...  ...       ...         ...         ...\n",
              "14996   Voice     17  2012-05-09 00:01:43.0  ...     19e2e  1ba612f62c  25250f86a1\n",
              "14997   Voice     10  2012-05-09 00:01:43.0  ...     OTHER  6467daa1db  8a96bae9c1\n",
              "14998   Voice      0  2012-05-09 00:01:43.0  ...     19e2e  2aa04dcab7  f7d63a29e5\n",
              "15000   Voice     32  2012-05-09 00:01:43.0  ...     19e2e  a4731e780e  d68260ef50\n",
              "15001   Voice     30  2012-05-09 00:01:43.0  ...     19e2e  98ed726da2  b4130b54ab\n",
              "\n",
              "[12820 rows x 10 columns]"
            ]
          },
          "execution_count": 88,
          "metadata": {},
          "output_type": "execute_result"
        }
      ]
    },
    {
      "cell_type": "code",
      "metadata": {
        "colab": {
          "base_uri": "https://localhost:8080/"
        },
        "id": "_wajdaQIeVwD",
        "outputId": "ba860473-4a7d-454b-cf55-42ce3b0d8bdc"
      },
      "source": [
        "# most used city for the three days\n",
        "\n",
        "from collections import Counter\n",
        "from collections import OrderedDict\n",
        "\n",
        "most_used_cities = Counter(cell_df['VILLES'])\n",
        "od = OrderedDict(most_used_cities.most_common())\n",
        "for key, value in od.items():\n",
        "  if value > 25:\n",
        "    print(key, ':', value)"
      ],
      "execution_count": null,
      "outputs": [
        {
          "name": "stdout",
          "output_type": "stream",
          "text": [
            "COCODY : 354\n",
            "YOPOUGON : 295\n",
            "ABOBO : 255\n",
            "MARCORY : 141\n",
            "TREICHVILLE : 132\n",
            "ADJAME : 110\n",
            "YAMOUSSOUKRO : 104\n",
            "PLATEAU : 103\n",
            "KOUMASSI : 91\n",
            "BOUAKE : 65\n",
            "PORT-BOUET : 61\n",
            "DALOA : 59\n",
            "SAN-PEDRO : 55\n",
            "GAGNOA : 55\n",
            "ATTECOUBE : 46\n",
            "BONGOUANOU : 42\n",
            "DIVO : 39\n",
            "KORHOGO : 36\n",
            "BINGERVILLE : 30\n",
            "SOUBRE : 28\n",
            "ANYAMA : 27\n",
            "GRAND-BASSAM : 27\n",
            "GUIGLO : 27\n"
          ]
        }
      ]
    },
    {
      "cell_type": "code",
      "metadata": {
        "colab": {
          "base_uri": "https://localhost:8080/"
        },
        "id": "tgX3-Z0fEyXV",
        "outputId": "1a0acf7e-c37f-4758-81aa-7826436e37ff"
      },
      "source": [
        "# Most used city for the three days\n",
        "column = cell_df[\"VILLES\"]\n",
        "max_value = column.max()\n",
        "max_value"
      ],
      "execution_count": null,
      "outputs": [
        {
          "data": {
            "application/vnd.google.colaboratory.intrinsic+json": {
              "type": "string"
            },
            "text/plain": [
              "'ZUENOULA'"
            ]
          },
          "execution_count": 90,
          "metadata": {},
          "output_type": "execute_result"
        }
      ]
    },
    {
      "cell_type": "code",
      "metadata": {
        "colab": {
          "base_uri": "https://localhost:8080/"
        },
        "id": "CiKzBaDdQnXV",
        "outputId": "446c95bd-fd40-4ac5-ffbb-832e2628d89d"
      },
      "source": [
        "# popular product\n",
        "popular_product = df_final.groupby('PRODUCT')\n",
        "popular_product['VALUE'].sum() "
      ],
      "execution_count": null,
      "outputs": [
        {
          "data": {
            "text/plain": [
              "PRODUCT\n",
              "Voice    312593\n",
              "data      17287\n",
              "sms       53427\n",
              "Name: VALUE, dtype: int64"
            ]
          },
          "execution_count": 91,
          "metadata": {},
          "output_type": "execute_result"
        }
      ]
    },
    {
      "cell_type": "code",
      "metadata": {
        "colab": {
          "base_uri": "https://localhost:8080/"
        },
        "id": "LgpCWf0PGm0q",
        "outputId": "142d8d99-cbf3-4161-e709-79e610936450"
      },
      "source": [
        "most_used_cities = cell_df['VILLES'].max()\n",
        "most_used_cities"
      ],
      "execution_count": null,
      "outputs": [
        {
          "data": {
            "application/vnd.google.colaboratory.intrinsic+json": {
              "type": "string"
            },
            "text/plain": [
              "'ZUENOULA'"
            ]
          },
          "execution_count": 92,
          "metadata": {},
          "output_type": "execute_result"
        }
      ]
    },
    {
      "cell_type": "code",
      "metadata": {
        "colab": {
          "background_save": true,
          "base_uri": "https://localhost:8080/",
          "height": 185
        },
        "id": "UWfZSfnPYQl6",
        "outputId": "4e43dbfc-704a-4d08-8427-470e8c2a936b"
      },
      "source": [
        "a = datetime.datetime(['DATE_TIME'])\n",
        "a"
      ],
      "execution_count": null,
      "outputs": [
        {
          "ename": "TypeError",
          "evalue": "ignored",
          "output_type": "error",
          "traceback": [
            "\u001b[0;31m---------------------------------------------------------------------------\u001b[0m",
            "\u001b[0;31mTypeError\u001b[0m                                 Traceback (most recent call last)",
            "\u001b[0;32m<ipython-input-94-7ad5a8aa8b44>\u001b[0m in \u001b[0;36m<module>\u001b[0;34m()\u001b[0m\n\u001b[1;32m      1\u001b[0m \u001b[0;32mimport\u001b[0m \u001b[0mdatetime\u001b[0m\u001b[0;34m\u001b[0m\u001b[0;34m\u001b[0m\u001b[0m\n\u001b[0;32m----> 2\u001b[0;31m \u001b[0ma\u001b[0m \u001b[0;34m=\u001b[0m \u001b[0mdatetime\u001b[0m\u001b[0;34m.\u001b[0m\u001b[0mdatetime\u001b[0m\u001b[0;34m(\u001b[0m\u001b[0;34m[\u001b[0m\u001b[0;34m'DATE_TIME'\u001b[0m\u001b[0;34m]\u001b[0m\u001b[0;34m)\u001b[0m\u001b[0;34m\u001b[0m\u001b[0;34m\u001b[0m\u001b[0m\n\u001b[0m\u001b[1;32m      3\u001b[0m \u001b[0ma\u001b[0m\u001b[0;34m\u001b[0m\u001b[0;34m\u001b[0m\u001b[0m\n",
            "\u001b[0;31mTypeError\u001b[0m: an integer is required (got type list)"
          ]
        }
      ]
    },
    {
      "cell_type": "code",
      "metadata": {
        "id": "6BwFrwWLYQkP"
      },
      "source": [
        ""
      ],
      "execution_count": null,
      "outputs": []
    },
    {
      "cell_type": "code",
      "metadata": {
        "colab": {
          "base_uri": "https://localhost:8080/",
          "height": 582
        },
        "id": "64Db3W6clPlm",
        "outputId": "5dd447ac-c583-46bb-9337-a37a664ea2cb"
      },
      "source": [
        "# cities most used during business and home hours\n",
        "cnt = Counter(cell_df['DATE_TIME'])\n",
        "od = OrderedDict(cnt.most_common())\n",
        "for key, value in od.items():\n",
        "    print(key, value)"
      ],
      "execution_count": null,
      "outputs": [
        {
          "ename": "KeyError",
          "evalue": "ignored",
          "output_type": "error",
          "traceback": [
            "\u001b[0;31m---------------------------------------------------------------------------\u001b[0m",
            "\u001b[0;31mKeyError\u001b[0m                                  Traceback (most recent call last)",
            "\u001b[0;32m/usr/local/lib/python3.7/dist-packages/pandas/core/indexes/base.py\u001b[0m in \u001b[0;36mget_loc\u001b[0;34m(self, key, method, tolerance)\u001b[0m\n\u001b[1;32m   2897\u001b[0m             \u001b[0;32mtry\u001b[0m\u001b[0;34m:\u001b[0m\u001b[0;34m\u001b[0m\u001b[0;34m\u001b[0m\u001b[0m\n\u001b[0;32m-> 2898\u001b[0;31m                 \u001b[0;32mreturn\u001b[0m \u001b[0mself\u001b[0m\u001b[0;34m.\u001b[0m\u001b[0m_engine\u001b[0m\u001b[0;34m.\u001b[0m\u001b[0mget_loc\u001b[0m\u001b[0;34m(\u001b[0m\u001b[0mcasted_key\u001b[0m\u001b[0;34m)\u001b[0m\u001b[0;34m\u001b[0m\u001b[0;34m\u001b[0m\u001b[0m\n\u001b[0m\u001b[1;32m   2899\u001b[0m             \u001b[0;32mexcept\u001b[0m \u001b[0mKeyError\u001b[0m \u001b[0;32mas\u001b[0m \u001b[0merr\u001b[0m\u001b[0;34m:\u001b[0m\u001b[0;34m\u001b[0m\u001b[0;34m\u001b[0m\u001b[0m\n",
            "\u001b[0;32mpandas/_libs/index.pyx\u001b[0m in \u001b[0;36mpandas._libs.index.IndexEngine.get_loc\u001b[0;34m()\u001b[0m\n",
            "\u001b[0;32mpandas/_libs/index.pyx\u001b[0m in \u001b[0;36mpandas._libs.index.IndexEngine.get_loc\u001b[0;34m()\u001b[0m\n",
            "\u001b[0;32mpandas/_libs/hashtable_class_helper.pxi\u001b[0m in \u001b[0;36mpandas._libs.hashtable.PyObjectHashTable.get_item\u001b[0;34m()\u001b[0m\n",
            "\u001b[0;32mpandas/_libs/hashtable_class_helper.pxi\u001b[0m in \u001b[0;36mpandas._libs.hashtable.PyObjectHashTable.get_item\u001b[0;34m()\u001b[0m\n",
            "\u001b[0;31mKeyError\u001b[0m: 'DATE_TIME'",
            "\nThe above exception was the direct cause of the following exception:\n",
            "\u001b[0;31mKeyError\u001b[0m                                  Traceback (most recent call last)",
            "\u001b[0;32m<ipython-input-57-ecb3863c0978>\u001b[0m in \u001b[0;36m<module>\u001b[0;34m()\u001b[0m\n\u001b[1;32m      1\u001b[0m \u001b[0;31m# cities most used during business and home hours\u001b[0m\u001b[0;34m\u001b[0m\u001b[0;34m\u001b[0m\u001b[0;34m\u001b[0m\u001b[0m\n\u001b[0;32m----> 2\u001b[0;31m \u001b[0mcnt\u001b[0m \u001b[0;34m=\u001b[0m \u001b[0mCounter\u001b[0m\u001b[0;34m(\u001b[0m\u001b[0mcell_df\u001b[0m\u001b[0;34m[\u001b[0m\u001b[0;34m'DATE_TIME'\u001b[0m\u001b[0;34m]\u001b[0m\u001b[0;34m)\u001b[0m\u001b[0;34m\u001b[0m\u001b[0;34m\u001b[0m\u001b[0m\n\u001b[0m\u001b[1;32m      3\u001b[0m \u001b[0mod\u001b[0m \u001b[0;34m=\u001b[0m \u001b[0mOrderedDict\u001b[0m\u001b[0;34m(\u001b[0m\u001b[0mcnt\u001b[0m\u001b[0;34m.\u001b[0m\u001b[0mmost_common\u001b[0m\u001b[0;34m(\u001b[0m\u001b[0;34m)\u001b[0m\u001b[0;34m)\u001b[0m\u001b[0;34m\u001b[0m\u001b[0;34m\u001b[0m\u001b[0m\n\u001b[1;32m      4\u001b[0m \u001b[0;32mfor\u001b[0m \u001b[0mkey\u001b[0m\u001b[0;34m,\u001b[0m \u001b[0mvalue\u001b[0m \u001b[0;32min\u001b[0m \u001b[0mod\u001b[0m\u001b[0;34m.\u001b[0m\u001b[0mitems\u001b[0m\u001b[0;34m(\u001b[0m\u001b[0;34m)\u001b[0m\u001b[0;34m:\u001b[0m\u001b[0;34m\u001b[0m\u001b[0;34m\u001b[0m\u001b[0m\n\u001b[1;32m      5\u001b[0m     \u001b[0mprint\u001b[0m\u001b[0;34m(\u001b[0m\u001b[0mkey\u001b[0m\u001b[0;34m,\u001b[0m \u001b[0mvalue\u001b[0m\u001b[0;34m)\u001b[0m\u001b[0;34m\u001b[0m\u001b[0;34m\u001b[0m\u001b[0m\n",
            "\u001b[0;32m/usr/local/lib/python3.7/dist-packages/pandas/core/frame.py\u001b[0m in \u001b[0;36m__getitem__\u001b[0;34m(self, key)\u001b[0m\n\u001b[1;32m   2904\u001b[0m             \u001b[0;32mif\u001b[0m \u001b[0mself\u001b[0m\u001b[0;34m.\u001b[0m\u001b[0mcolumns\u001b[0m\u001b[0;34m.\u001b[0m\u001b[0mnlevels\u001b[0m \u001b[0;34m>\u001b[0m \u001b[0;36m1\u001b[0m\u001b[0;34m:\u001b[0m\u001b[0;34m\u001b[0m\u001b[0;34m\u001b[0m\u001b[0m\n\u001b[1;32m   2905\u001b[0m                 \u001b[0;32mreturn\u001b[0m \u001b[0mself\u001b[0m\u001b[0;34m.\u001b[0m\u001b[0m_getitem_multilevel\u001b[0m\u001b[0;34m(\u001b[0m\u001b[0mkey\u001b[0m\u001b[0;34m)\u001b[0m\u001b[0;34m\u001b[0m\u001b[0;34m\u001b[0m\u001b[0m\n\u001b[0;32m-> 2906\u001b[0;31m             \u001b[0mindexer\u001b[0m \u001b[0;34m=\u001b[0m \u001b[0mself\u001b[0m\u001b[0;34m.\u001b[0m\u001b[0mcolumns\u001b[0m\u001b[0;34m.\u001b[0m\u001b[0mget_loc\u001b[0m\u001b[0;34m(\u001b[0m\u001b[0mkey\u001b[0m\u001b[0;34m)\u001b[0m\u001b[0;34m\u001b[0m\u001b[0;34m\u001b[0m\u001b[0m\n\u001b[0m\u001b[1;32m   2907\u001b[0m             \u001b[0;32mif\u001b[0m \u001b[0mis_integer\u001b[0m\u001b[0;34m(\u001b[0m\u001b[0mindexer\u001b[0m\u001b[0;34m)\u001b[0m\u001b[0;34m:\u001b[0m\u001b[0;34m\u001b[0m\u001b[0;34m\u001b[0m\u001b[0m\n\u001b[1;32m   2908\u001b[0m                 \u001b[0mindexer\u001b[0m \u001b[0;34m=\u001b[0m \u001b[0;34m[\u001b[0m\u001b[0mindexer\u001b[0m\u001b[0;34m]\u001b[0m\u001b[0;34m\u001b[0m\u001b[0;34m\u001b[0m\u001b[0m\n",
            "\u001b[0;32m/usr/local/lib/python3.7/dist-packages/pandas/core/indexes/base.py\u001b[0m in \u001b[0;36mget_loc\u001b[0;34m(self, key, method, tolerance)\u001b[0m\n\u001b[1;32m   2898\u001b[0m                 \u001b[0;32mreturn\u001b[0m \u001b[0mself\u001b[0m\u001b[0;34m.\u001b[0m\u001b[0m_engine\u001b[0m\u001b[0;34m.\u001b[0m\u001b[0mget_loc\u001b[0m\u001b[0;34m(\u001b[0m\u001b[0mcasted_key\u001b[0m\u001b[0;34m)\u001b[0m\u001b[0;34m\u001b[0m\u001b[0;34m\u001b[0m\u001b[0m\n\u001b[1;32m   2899\u001b[0m             \u001b[0;32mexcept\u001b[0m \u001b[0mKeyError\u001b[0m \u001b[0;32mas\u001b[0m \u001b[0merr\u001b[0m\u001b[0;34m:\u001b[0m\u001b[0;34m\u001b[0m\u001b[0;34m\u001b[0m\u001b[0m\n\u001b[0;32m-> 2900\u001b[0;31m                 \u001b[0;32mraise\u001b[0m \u001b[0mKeyError\u001b[0m\u001b[0;34m(\u001b[0m\u001b[0mkey\u001b[0m\u001b[0;34m)\u001b[0m \u001b[0;32mfrom\u001b[0m \u001b[0merr\u001b[0m\u001b[0;34m\u001b[0m\u001b[0;34m\u001b[0m\u001b[0m\n\u001b[0m\u001b[1;32m   2901\u001b[0m \u001b[0;34m\u001b[0m\u001b[0m\n\u001b[1;32m   2902\u001b[0m         \u001b[0;32mif\u001b[0m \u001b[0mtolerance\u001b[0m \u001b[0;32mis\u001b[0m \u001b[0;32mnot\u001b[0m \u001b[0;32mNone\u001b[0m\u001b[0;34m:\u001b[0m\u001b[0;34m\u001b[0m\u001b[0;34m\u001b[0m\u001b[0m\n",
            "\u001b[0;31mKeyError\u001b[0m: 'DATE_TIME'"
          ]
        }
      ]
    }
  ]
}